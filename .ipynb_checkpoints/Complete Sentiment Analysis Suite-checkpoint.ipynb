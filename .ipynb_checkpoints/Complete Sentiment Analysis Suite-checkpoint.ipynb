{
 "cells": [
  {
   "cell_type": "markdown",
   "metadata": {},
   "source": [
    "# Complete Sentiment Analysis Suite \n",
    "\n",
    "The Choate from **Chaitanya Madhu**\n",
    "\n",
    "https://www.linkedin.com/in/chaitanyamadhu/"
   ]
  },
  {
   "cell_type": "markdown",
   "metadata": {},
   "source": [
    "  "
   ]
  },
  {
   "cell_type": "markdown",
   "metadata": {
    "jp-MarkdownHeadingCollapsed": true
   },
   "source": [
    "This notebook outlines various methods to perform Sentiment Analysis using Python: \n",
    "\n",
    "1. **Load and Use a pre-trained NLP library**\n",
    "    - a. **NLTK - VADER Sentiment Analyzer**\n",
    "\n",
    "    - b. **TextBlob Sentiment Analyzer**\n",
    "\n",
    "    _Requires no model training. Simply, load the ready-to-use classifier and apply it on real-time data._\n",
    "\n",
    "2. **Create and Use a custom Machine Learning (ML) model**\n",
    "\n",
    "    _Requires model training and involves building an ML model from scratch._\n",
    "\n",
    "3. **Use a Deep Learning (DL) model**\n",
    "\n",
    "    - a. **Use a pre-trained Deep Learning model pipeline (Transformers)**\n",
    "\n",
    "        _Requires no model training. Simply, load the ready-to-use classifier and apply it on real-time data._\n",
    "    - b. **Apply transfer learning on a pre-trained Deep Learning model (fine-tune DistillBERT)**\n",
    "\n",
    "        _Involves loading a pre-trained model and training/fine-tuning it on a small custom dataset._\n",
    "    - c. **Create and Use a custom Deep Learning model (built-from-scratch)**\n",
    "\n",
    "        _Requires model training and involves building a DL model from scratch._\n"
   ]
  },
  {
   "cell_type": "markdown",
   "metadata": {},
   "source": [
    "_**Note: Sentiment Analysis implemented in this notebook refers to \"Standard Sentiment Analysis\" i.e., outputs Positive, Neutral, or Negative labels with a confidence score.**_"
   ]
  },
  {
   "cell_type": "markdown",
   "metadata": {},
   "source": [
    "# 1.a. Standard Sentiment Analysis using a Pre-trained NLP Library: NLTK - VADER\n",
    "- VADER (Valence Aware Dictionary and sEntiment Reasoner) is a rule-based sentiment analyzer that has been trained on social media text. \n",
    "- In the below code illustration, the VADER Sentiment Analyzer is imported from NLTK Python Package and used to perform Sentiment Analysis on new test data. "
   ]
  },
  {
   "cell_type": "code",
   "execution_count": 2,
   "metadata": {},
   "outputs": [],
   "source": [
    "# import libraries \n",
    "from nltk.sentiment.vader import SentimentIntensityAnalyzer"
   ]
  },
  {
   "cell_type": "code",
   "execution_count": 3,
   "metadata": {},
   "outputs": [
    {
     "name": "stdout",
     "output_type": "stream",
     "text": [
      "Sentiment of text 1: {'neg': 0.0, 'neu': 0.709, 'pos': 0.291, 'compound': 0.5719}\n",
      "Sentiment of text 2: {'neg': 0.508, 'neu': 0.492, 'pos': 0.0, 'compound': -0.4767}\n"
     ]
    }
   ],
   "source": [
    "sentiment = SentimentIntensityAnalyzer()\n",
    "\n",
    "text_1 = \"The book was a perfect balance between wrtiting style and plot.\"\n",
    "text_2 =  \"The pizza tastes terrible.\"\n",
    "sent_1 = sentiment.polarity_scores(text_1)\n",
    "sent_2 = sentiment.polarity_scores(text_2)\n",
    "\n",
    "print(\"Sentiment of text 1:\", sent_1)\n",
    "print(\"Sentiment of text 2:\", sent_2)"
   ]
  },
  {
   "cell_type": "markdown",
   "metadata": {},
   "source": [
    "# 1.b. Standard Sentiment Analysis using a Pre-trained NLP Library: TextBlob\n",
    "- TextBlob is a Python Library for NLP tasks \n",
    "- It takes text as an input and can return polarity and subjectivity as outputs. \n",
    "    - Polarity determines the sentiment of the text. Its values lie in [-1,1] where -1 denotes a highly negative sentiment and 1 denotes a highly positive sentiment.\n",
    "\n",
    "    - Subjectivity determines whether a text input is factual information or a personal opinion. Its value lies between [0,1] where a value closer to 0 denotes a piece of factual information and a value closer to 1 denotes a personal opinion."
   ]
  },
  {
   "cell_type": "code",
   "execution_count": 5,
   "metadata": {},
   "outputs": [],
   "source": [
    "# import libraries\n",
    "from textblob import TextBlob"
   ]
  },
  {
   "cell_type": "code",
   "execution_count": 6,
   "metadata": {},
   "outputs": [
    {
     "name": "stdout",
     "output_type": "stream",
     "text": [
      "Polarity of Text 1 is 1.0\n",
      "Polarity of Text 2 is -1.0\n",
      "Polarity of Text 3 is 0.16666666666666666\n",
      "\n",
      "\n",
      "Subjectivity of Text 1 is 1.0\n",
      "Subjectivity of Text 2 is 1.0\n",
      "Subjectivity of Text 3 is 0.6666666666666666\n"
     ]
    }
   ],
   "source": [
    "text_1 = \"The movie was so awesome.\"\n",
    "text_2 = \"The food here tastes terrible.\"\n",
    "text_3 = \"The talk seems decent\"\n",
    "\n",
    "# Determining the Polarity \n",
    "p_1 = TextBlob(text_1).sentiment.polarity\n",
    "p_2 = TextBlob(text_2).sentiment.polarity\n",
    "p_3 = TextBlob(text_3).sentiment.polarity\n",
    "\n",
    "# Determining the Subjectivity\n",
    "s_1 = TextBlob(text_1).sentiment.subjectivity\n",
    "s_2 = TextBlob(text_2).sentiment.subjectivity\n",
    "s_3 = TextBlob(text_3).sentiment.subjectivity\n",
    "\n",
    "print(\"Polarity of Text 1 is\", p_1)\n",
    "print(\"Polarity of Text 2 is\", p_2)\n",
    "print(\"Polarity of Text 3 is\", p_3)\n",
    "print(\"\\n\")\n",
    "print(\"Subjectivity of Text 1 is\", s_1)\n",
    "print(\"Subjectivity of Text 2 is\", s_2)\n",
    "print(\"Subjectivity of Text 3 is\", s_3)"
   ]
  },
  {
   "cell_type": "markdown",
   "metadata": {},
   "source": [
    "# 2. Standard Sentiment Analysis using a custom Machine Learning Model (built-from-scratch)\n",
    "- In simple terms, this is a Supervised Learning - Multi-Class Classification usecase, where a custom ML model is trained from scratch on custom labelled data. \n",
    "- The steps involved in creating a sentiment analysis ML Model are as follows:\n",
    "  - a. import custom dataset. The current dataset being used is a Finance Dataset from Kaggle. \n",
    "    https://www.kaggle.com/datasets/sbhatti/financial-sentiment-analysis\n",
    "  - b. Pre-Process the text of training data (Text pre-processing involves Normalization, Tokenization, Stopwords Removal, and Stemming/Lemmatization). \n",
    "  - c. Transform the textual columns into vector representations. \n",
    "  - d. Split the dataset into train and validation sets. \n",
    "  - d. Define various ML Models and train them on the train dataset. Test them against the test datset and compute evaluation scores.\n",
    "  - e. Based on the computed evaluation scores, pick the best fine-tuned model along with the hyper-parameters and train it on the whole dataset, without any train and test splits. \n",
    "  - f. Apply the finalized Sentiment Analysis ML Model on real-time testing data to make predictions. \n"
   ]
  },
  {
   "cell_type": "code",
   "execution_count": 27,
   "metadata": {},
   "outputs": [],
   "source": [
    "# import libraries \n",
    "\n",
    "import re\n",
    "import pandas as pd\n",
    "import seaborn as sns\n",
    "import matplotlib.pyplot as plt\n",
    "from sklearn.model_selection import train_test_split\n",
    "from sklearn.feature_extraction.text import CountVectorizer\n",
    "from sklearn.naive_bayes import MultinomialNB\n",
    "from sklearn.decomposition import LatentDirichletAllocation\n",
    "\n",
    "from sklearn.linear_model import LogisticRegression, SGDClassifier\n",
    "from sklearn.tree import DecisionTreeClassifier\n",
    "from sklearn.naive_bayes import MultinomialNB\n",
    "from sklearn.ensemble import RandomForestClassifier, GradientBoostingClassifier\n",
    "from sklearn.multiclass import OneVsRestClassifier\n",
    "from sklearn.svm import SVC\n",
    "from xgboost import XGBClassifier\n",
    "from wordcloud import WordCloud\n",
    "\n",
    "from sklearn.model_selection import GridSearchCV\n",
    "from sklearn.metrics import accuracy_score, f1_score, hamming_loss, classification_report\n",
    "\n",
    "import joblib"
   ]
  },
  {
   "cell_type": "code",
   "execution_count": 9,
   "metadata": {},
   "outputs": [
    {
     "data": {
      "text/html": [
       "<div>\n",
       "<style scoped>\n",
       "    .dataframe tbody tr th:only-of-type {\n",
       "        vertical-align: middle;\n",
       "    }\n",
       "\n",
       "    .dataframe tbody tr th {\n",
       "        vertical-align: top;\n",
       "    }\n",
       "\n",
       "    .dataframe thead th {\n",
       "        text-align: right;\n",
       "    }\n",
       "</style>\n",
       "<table border=\"1\" class=\"dataframe\">\n",
       "  <thead>\n",
       "    <tr style=\"text-align: right;\">\n",
       "      <th></th>\n",
       "      <th>Sentence</th>\n",
       "      <th>Sentiment</th>\n",
       "    </tr>\n",
       "  </thead>\n",
       "  <tbody>\n",
       "    <tr>\n",
       "      <th>0</th>\n",
       "      <td>The GeoSolutions technology will leverage Bene...</td>\n",
       "      <td>positive</td>\n",
       "    </tr>\n",
       "    <tr>\n",
       "      <th>1</th>\n",
       "      <td>$ESI on lows, down $1.50 to $2.50 BK a real po...</td>\n",
       "      <td>negative</td>\n",
       "    </tr>\n",
       "    <tr>\n",
       "      <th>2</th>\n",
       "      <td>For the last quarter of 2010 , Componenta 's n...</td>\n",
       "      <td>positive</td>\n",
       "    </tr>\n",
       "    <tr>\n",
       "      <th>3</th>\n",
       "      <td>According to the Finnish-Russian Chamber of Co...</td>\n",
       "      <td>neutral</td>\n",
       "    </tr>\n",
       "    <tr>\n",
       "      <th>4</th>\n",
       "      <td>The Swedish buyout firm has sold its remaining...</td>\n",
       "      <td>neutral</td>\n",
       "    </tr>\n",
       "    <tr>\n",
       "      <th>...</th>\n",
       "      <td>...</td>\n",
       "      <td>...</td>\n",
       "    </tr>\n",
       "    <tr>\n",
       "      <th>5837</th>\n",
       "      <td>RISING costs have forced packaging producer Hu...</td>\n",
       "      <td>negative</td>\n",
       "    </tr>\n",
       "    <tr>\n",
       "      <th>5838</th>\n",
       "      <td>Nordic Walking was first used as a summer trai...</td>\n",
       "      <td>neutral</td>\n",
       "    </tr>\n",
       "    <tr>\n",
       "      <th>5839</th>\n",
       "      <td>According shipping company Viking Line , the E...</td>\n",
       "      <td>neutral</td>\n",
       "    </tr>\n",
       "    <tr>\n",
       "      <th>5840</th>\n",
       "      <td>In the building and home improvement trade , s...</td>\n",
       "      <td>neutral</td>\n",
       "    </tr>\n",
       "    <tr>\n",
       "      <th>5841</th>\n",
       "      <td>HELSINKI AFX - KCI Konecranes said it has won ...</td>\n",
       "      <td>positive</td>\n",
       "    </tr>\n",
       "  </tbody>\n",
       "</table>\n",
       "<p>5842 rows × 2 columns</p>\n",
       "</div>"
      ],
      "text/plain": [
       "                                               Sentence Sentiment\n",
       "0     The GeoSolutions technology will leverage Bene...  positive\n",
       "1     $ESI on lows, down $1.50 to $2.50 BK a real po...  negative\n",
       "2     For the last quarter of 2010 , Componenta 's n...  positive\n",
       "3     According to the Finnish-Russian Chamber of Co...   neutral\n",
       "4     The Swedish buyout firm has sold its remaining...   neutral\n",
       "...                                                 ...       ...\n",
       "5837  RISING costs have forced packaging producer Hu...  negative\n",
       "5838  Nordic Walking was first used as a summer trai...   neutral\n",
       "5839  According shipping company Viking Line , the E...   neutral\n",
       "5840  In the building and home improvement trade , s...   neutral\n",
       "5841  HELSINKI AFX - KCI Konecranes said it has won ...  positive\n",
       "\n",
       "[5842 rows x 2 columns]"
      ]
     },
     "execution_count": 9,
     "metadata": {},
     "output_type": "execute_result"
    }
   ],
   "source": [
    "# Load the Dataset\n",
    "\n",
    "data = pd.read_csv('Finance_data.csv')\n",
    "data"
   ]
  },
  {
   "cell_type": "code",
   "execution_count": 10,
   "metadata": {},
   "outputs": [
    {
     "name": "stdout",
     "output_type": "stream",
     "text": [
      "Dataset shape before dropping missing values:  (5842, 2)\n",
      "Dataset shape after dropping missing values:  (5842, 2)\n",
      "Dataset shape before dropping duplicate values:  (5842, 2)\n",
      "Dataset shape after dropping duplicate values:  (5295, 2)\n"
     ]
    },
    {
     "data": {
      "text/html": [
       "<div>\n",
       "<style scoped>\n",
       "    .dataframe tbody tr th:only-of-type {\n",
       "        vertical-align: middle;\n",
       "    }\n",
       "\n",
       "    .dataframe tbody tr th {\n",
       "        vertical-align: top;\n",
       "    }\n",
       "\n",
       "    .dataframe thead th {\n",
       "        text-align: right;\n",
       "    }\n",
       "</style>\n",
       "<table border=\"1\" class=\"dataframe\">\n",
       "  <thead>\n",
       "    <tr style=\"text-align: right;\">\n",
       "      <th></th>\n",
       "      <th>Sentence</th>\n",
       "      <th>Sentiment</th>\n",
       "    </tr>\n",
       "  </thead>\n",
       "  <tbody>\n",
       "    <tr>\n",
       "      <th>0</th>\n",
       "      <td>the geosolutions technology will leverage bene...</td>\n",
       "      <td>positive</td>\n",
       "    </tr>\n",
       "    <tr>\n",
       "      <th>1</th>\n",
       "      <td>esi on lows down  to  bk a real possibility</td>\n",
       "      <td>negative</td>\n",
       "    </tr>\n",
       "    <tr>\n",
       "      <th>2</th>\n",
       "      <td>for the last quarter of   componenta s net sal...</td>\n",
       "      <td>positive</td>\n",
       "    </tr>\n",
       "    <tr>\n",
       "      <th>3</th>\n",
       "      <td>according to the finnishrussian chamber of com...</td>\n",
       "      <td>neutral</td>\n",
       "    </tr>\n",
       "    <tr>\n",
       "      <th>4</th>\n",
       "      <td>the swedish buyout firm has sold its remaining...</td>\n",
       "      <td>neutral</td>\n",
       "    </tr>\n",
       "    <tr>\n",
       "      <th>...</th>\n",
       "      <td>...</td>\n",
       "      <td>...</td>\n",
       "    </tr>\n",
       "    <tr>\n",
       "      <th>5837</th>\n",
       "      <td>rising costs have forced packaging producer hu...</td>\n",
       "      <td>negative</td>\n",
       "    </tr>\n",
       "    <tr>\n",
       "      <th>5838</th>\n",
       "      <td>nordic walking was first used as a summer trai...</td>\n",
       "      <td>neutral</td>\n",
       "    </tr>\n",
       "    <tr>\n",
       "      <th>5839</th>\n",
       "      <td>according shipping company viking line  the eu...</td>\n",
       "      <td>neutral</td>\n",
       "    </tr>\n",
       "    <tr>\n",
       "      <th>5840</th>\n",
       "      <td>in the building and home improvement trade  sa...</td>\n",
       "      <td>neutral</td>\n",
       "    </tr>\n",
       "    <tr>\n",
       "      <th>5841</th>\n",
       "      <td>helsinki afx  kci konecranes said it has won a...</td>\n",
       "      <td>positive</td>\n",
       "    </tr>\n",
       "  </tbody>\n",
       "</table>\n",
       "<p>5295 rows × 2 columns</p>\n",
       "</div>"
      ],
      "text/plain": [
       "                                               Sentence Sentiment\n",
       "0     the geosolutions technology will leverage bene...  positive\n",
       "1           esi on lows down  to  bk a real possibility  negative\n",
       "2     for the last quarter of   componenta s net sal...  positive\n",
       "3     according to the finnishrussian chamber of com...   neutral\n",
       "4     the swedish buyout firm has sold its remaining...   neutral\n",
       "...                                                 ...       ...\n",
       "5837  rising costs have forced packaging producer hu...  negative\n",
       "5838  nordic walking was first used as a summer trai...   neutral\n",
       "5839  according shipping company viking line  the eu...   neutral\n",
       "5840  in the building and home improvement trade  sa...   neutral\n",
       "5841  helsinki afx  kci konecranes said it has won a...  positive\n",
       "\n",
       "[5295 rows x 2 columns]"
      ]
     },
     "execution_count": 10,
     "metadata": {},
     "output_type": "execute_result"
    }
   ],
   "source": [
    "### Data Cleaning ### \n",
    "\n",
    "# convert to lowercase \n",
    "data['Sentence'] = data['Sentence'].apply(lambda x: str(x).lower())\n",
    "\n",
    "# Remove Numbers \n",
    "data['Sentence'] = data['Sentence'].str.replace('\\d+', '', regex=True)\n",
    "\n",
    "# Remove Special Characters \n",
    "data['Sentence'] = data['Sentence'].apply(lambda x: re.sub(r'[^a-zA-Z\\s]', '', x)) \n",
    "\n",
    "# Drop Missing Values\n",
    "print(\"Dataset shape before dropping missing values: \", data.shape)\n",
    "data.dropna(inplace=True)\n",
    "print(\"Dataset shape after dropping missing values: \", data.shape)\n",
    "\n",
    "# Drop Duplicates\n",
    "print(\"Dataset shape before dropping duplicate values: \", data.shape)\n",
    "data = data.drop_duplicates(subset = [\"Sentence\"], keep='last')\n",
    "print(\"Dataset shape after dropping duplicate values: \", data.shape)\n",
    "\n",
    "data"
   ]
  },
  {
   "cell_type": "markdown",
   "metadata": {},
   "source": [
    "- No Missing values exists in both columns of the dataset \n",
    "- Duplicates are detected and removed "
   ]
  },
  {
   "cell_type": "code",
   "execution_count": 11,
   "metadata": {},
   "outputs": [
    {
     "name": "stderr",
     "output_type": "stream",
     "text": [
      "C:\\Users\\CHAITANYA\\AppData\\Local\\Temp\\ipykernel_55180\\3423269174.py:9: UserWarning: Setting the 'color' property will override the edgecolor or facecolor properties.\n",
      "  center_circle = plt.Circle((0, 0), 0.3, color='white', edgecolor='gray', linewidth=1.25)\n"
     ]
    },
    {
     "data": {
      "image/png": "[encoded data removed]",
      "text/plain": [
       "<Figure size 640x480 with 1 Axes>"
      ]
     },
     "metadata": {},
     "output_type": "display_data"
    }
   ],
   "source": [
    "### Data Visuzalization 1 ###\n",
    "\n",
    "# Plotting the donut plot to visualize distribution for the column \"Sentiment\"\n",
    "sentiment_counts = data['Sentiment'].value_counts()\n",
    "fig, ax = plt.subplots()\n",
    "ax.pie(sentiment_counts, labels=sentiment_counts.index, autopct='%1.1f%%', startangle=90, wedgeprops=dict(width=0.7))\n",
    "ax.set_title('Sentiment Distribution')\n",
    "# Draw a circle in the center to create a donut chart\n",
    "center_circle = plt.Circle((0, 0), 0.3, color='white', edgecolor='gray', linewidth=1.25)\n",
    "ax.add_patch(center_circle)\n",
    "# Equal aspect ratio ensures that the donut is drawn as a circle.\n",
    "ax.axis('equal')\n",
    "# Show the donut chart\n",
    "plt.show()"
   ]
  },
  {
   "cell_type": "code",
   "execution_count": 12,
   "metadata": {},
   "outputs": [
    {
     "name": "stdout",
     "output_type": "stream",
     "text": [
      "Topic #1: company, said, production, new, finnish, oy, capacity, solution, plant, investment\n",
      "Topic #2: report, company, services, data, operations, market, buy, basware, research, media\n",
      "Topic #3: eur, mn, net, profit, sales, operating, million, period, quarter, year\n",
      "Topic #4: shares, finland, number, business, share, helsinki, rights, voting, sales, company\n",
      "Topic #5: percent, million, sales, market, company, approximately, tsla, said, group, euros\n",
      "Topic #6: mln, euro, finnish, contract, company, said, finland, new, paper, manufacturing\n",
      "Topic #7: company, bank, group, plc, finnish, business, services, finland, market, said\n",
      "Topic #8: share, eur, finnish, oyj, said, company, today, hel, board, omx\n",
      "Topic #9: nokia, services, mobile, business, said, solutions, products, new, company, long\n",
      "Topic #10: aapl, company, short, expected, long, spy, finnish, fb, close, looking\n"
     ]
    },
    {
     "name": "stderr",
     "output_type": "stream",
     "text": [
      "C:\\Users\\CHAITANYA\\AppData\\Local\\Temp\\ipykernel_55180\\1415229120.py:31: SettingWithCopyWarning: \n",
      "A value is trying to be set on a copy of a slice from a DataFrame.\n",
      "Try using .loc[row_indexer,col_indexer] = value instead\n",
      "\n",
      "See the caveats in the documentation: https://pandas.pydata.org/pandas-docs/stable/user_guide/indexing.html#returning-a-view-versus-a-copy\n",
      "  data['Dominant_Topic'] = lda.transform(X).argmax(axis=1)\n"
     ]
    },
    {
     "data": {
      "image/png": "[encoded data removed]",
      "text/plain": [
       "<Figure size 1200x800 with 1 Axes>"
      ]
     },
     "metadata": {},
     "output_type": "display_data"
    }
   ],
   "source": [
    "### Data Visuzalization 2 ###\n",
    "\n",
    "# Topic Modeling - Generate Topics based on the column \"Sentence\"\n",
    "\n",
    "vectorizer = CountVectorizer(max_df=0.85, max_features=5000, stop_words='english') # Vectorize the text data\n",
    "X = vectorizer.fit_transform(data['Sentence'])\n",
    "\n",
    "# Apply Latent Dirichlet Allocation (LDA)\n",
    "num_topics = 10  # You can adjust the number of topics\n",
    "lda = LatentDirichletAllocation(n_components=num_topics, random_state=42)\n",
    "lda.fit(X)\n",
    "\n",
    "# Print the top words for each topic\n",
    "feature_names = vectorizer.get_feature_names_out()\n",
    "num_top_words = 10  # You can adjust the number of top words to display\n",
    "\n",
    "for topic_idx, topic in enumerate(lda.components_):\n",
    "    top_words_idx = topic.argsort()[:-num_top_words - 1:-1]\n",
    "    top_words = [feature_names[i] for i in top_words_idx]\n",
    "    print(f\"Topic #{topic_idx + 1}: {', '.join(top_words)}\")\n",
    "\n",
    "\n",
    "    \n",
    "    \n",
    "# Plotting the bar plot to visualize distribution for the column \"Sentiment\", based on the topics generated \n",
    "\n",
    "sentences = data['Sentence']\n",
    "sentiments = data['Sentiment']\n",
    "\n",
    "# Get the dominant topic for each sentence\n",
    "data['Dominant_Topic'] = lda.transform(X).argmax(axis=1)\n",
    "\n",
    "# Extract the most representative word for each topic (as discussed earlier)\n",
    "feature_names = vectorizer.get_feature_names_out()\n",
    "topic_labels = []\n",
    "\n",
    "for topic_idx, topic in enumerate(lda.components_):\n",
    "    top_word_idx = topic.argmax()\n",
    "    top_word = feature_names[top_word_idx]\n",
    "    topic_labels.append(top_word)\n",
    "\n",
    "# Combine Sentiment, Dominant_Topic, and Topic_Label into a new DataFrame\n",
    "df_combined = pd.concat([data['Sentiment'], data['Dominant_Topic']], axis=1)\n",
    "df_combined['Topic_Label'] = df_combined['Dominant_Topic'].map(lambda x: topic_labels[x])\n",
    "\n",
    "# Count the occurrences of each combination\n",
    "topic_sentiment_counts = df_combined.groupby(['Topic_Label', 'Sentiment']).size().reset_index(name='Count')\n",
    "\n",
    "# Plot the bar graph\n",
    "plt.figure(figsize=(12, 8))\n",
    "sns.barplot(x='Topic_Label', y='Count', hue='Sentiment', data=topic_sentiment_counts)\n",
    "plt.xlabel('Topic')\n",
    "plt.ylabel('Count')\n",
    "plt.title('Sentiment by Topic')\n",
    "plt.show()\n"
   ]
  },
  {
   "cell_type": "code",
   "execution_count": 23,
   "metadata": {},
   "outputs": [
    {
     "data": {
      "image/png": "[encoded data removed]",
      "text/plain": [
       "<Figure size 1500x500 with 3 Axes>"
      ]
     },
     "metadata": {},
     "output_type": "display_data"
    }
   ],
   "source": [
    "### Visualization - 3 ### \n",
    "\n",
    "# Separate positive and negative sentences\n",
    "positive_tweets = \" \".join(data[data['Sentiment'] == 'positive']['Sentence'])\n",
    "neutral_tweets = \" \".join(data[data['Sentiment'] == 'neutral']['Sentence'])\n",
    "negative_tweets = \" \".join(data[data['Sentiment'] == 'negative']['Sentence'])\n",
    "\n",
    "# Create WordCloud for Positive Tweets\n",
    "wordcloud_positive = WordCloud(width=400, height=200, random_state=21, max_font_size=110, background_color='white').generate(positive_tweets)\n",
    "# Create WordCloud for Neutral Tweets\n",
    "wordcloud_neutral = WordCloud(width=400, height=200, random_state=21, max_font_size=110, background_color='white').generate(neutral_tweets)\n",
    "# Create WordCloud for Negative Tweets\n",
    "wordcloud_negative = WordCloud(width=400, height=200, random_state=21, max_font_size=110, background_color='white').generate(negative_tweets)\n",
    "\n",
    "# Set up subplots\n",
    "fig, axs = plt.subplots(1, 3, figsize=(15, 5))\n",
    "\n",
    "# Plot the WordClouds\n",
    "axs[0].imshow(wordcloud_positive, interpolation=\"bilinear\")\n",
    "axs[0].axis('off')\n",
    "axs[0].set_title('Positive Sentences')\n",
    "\n",
    "axs[1].imshow(wordcloud_neutral, interpolation=\"bilinear\")\n",
    "axs[1].axis('off')\n",
    "axs[1].set_title('Neutral Sentences')\n",
    "\n",
    "axs[2].imshow(wordcloud_negative, interpolation=\"bilinear\")\n",
    "axs[2].axis('off')\n",
    "axs[2].set_title('Negative Sentences')\n",
    "\n",
    "plt.show()"
   ]
  },
  {
   "cell_type": "code",
   "execution_count": 24,
   "metadata": {},
   "outputs": [
    {
     "name": "stdout",
     "output_type": "stream",
     "text": [
      "(3971,)\n",
      "(3971,)\n",
      "(1324,)\n",
      "(1324,)\n"
     ]
    }
   ],
   "source": [
    "# Split the dataset into train and eval sets \n",
    "\n",
    "data_train, data_test = train_test_split(data, test_size=0.25, stratify=data['Sentiment'], random_state=1)\n",
    "\n",
    "X_train = data_train['Sentence']\n",
    "X_test = data_test['Sentence']\n",
    "y_train = data_train['Sentiment']\n",
    "y_test = data_test['Sentiment']\n",
    "\n",
    "print(X_train.shape)\n",
    "print(y_train.shape)\n",
    "print(X_test.shape)\n",
    "print(y_test.shape)\n"
   ]
  },
  {
   "cell_type": "code",
   "execution_count": 14,
   "metadata": {},
   "outputs": [],
   "source": [
    "### Word Representations - Embedding and Encoding ### \n",
    "\n",
    "from sklearn.feature_extraction.text import TfidfVectorizer\n",
    "from sklearn.preprocessing import LabelEncoder\n",
    "\n",
    "# Embedding X using TF-IDF \n",
    "vectorizer = TfidfVectorizer(max_features=5000, stop_words='english')\n",
    "X_train_embedded = vectorizer.fit_transform(X_train)\n",
    "X_test_embedded = vectorizer.transform(X_test)\n",
    "\n",
    "### Encoding y using LabelEncoder \n",
    "sentiment_encoder = LabelEncoder()\n",
    "y_train_encoded = sentiment_encoder.fit_transform(y_train)\n",
    "y_test_encoded = sentiment_encoder.transform(y_test)"
   ]
  },
  {
   "cell_type": "code",
   "execution_count": 15,
   "metadata": {},
   "outputs": [
    {
     "name": "stdout",
     "output_type": "stream",
     "text": [
      "Training and Tuning: Naive Bayes ...\n",
      "Fitting 3 folds for each of 1 candidates, totalling 3 fits\n",
      "[CV] END .................................................... total time=   0.0s\n",
      "[CV] END .................................................... total time=   0.0s\n",
      "[CV] END .................................................... total time=   0.0s\n",
      "Naive Bayes: \n",
      "    Accuracy: 0.7017\n",
      "    F1-Score: 0.6599\n",
      "    Hamming Loss: 0.2983\n",
      "______________________________________________________________________________________\n",
      "Training and Tuning: Logistic Regression ...\n",
      "Fitting 3 folds for each of 5 candidates, totalling 15 fits\n",
      "[CV] END ............................................C=0.001; total time=   0.0s\n",
      "[CV] END ............................................C=0.001; total time=   0.0s\n",
      "[CV] END ............................................C=0.001; total time=   0.0s\n",
      "[CV] END .............................................C=0.01; total time=   0.0s\n",
      "[CV] END .............................................C=0.01; total time=   0.0s\n",
      "[CV] END .............................................C=0.01; total time=   0.0s\n",
      "[CV] END ..............................................C=0.1; total time=   0.0s\n",
      "[CV] END ..............................................C=0.1; total time=   0.0s\n",
      "[CV] END ..............................................C=0.1; total time=   0.0s\n",
      "[CV] END ................................................C=1; total time=   0.1s\n",
      "[CV] END ................................................C=1; total time=   0.1s\n",
      "[CV] END ................................................C=1; total time=   0.1s\n",
      "[CV] END ...............................................C=10; total time=   0.4s\n",
      "[CV] END ...............................................C=10; total time=   0.3s\n",
      "[CV] END ...............................................C=10; total time=   0.4s\n",
      "Logistic Regression: \n",
      "    Accuracy: 0.7311\n",
      "    F1-Score: 0.7206\n",
      "    Hamming Loss: 0.2689\n",
      "______________________________________________________________________________________\n",
      "Training and Tuning: SVM ...\n",
      "Fitting 3 folds for each of 6 candidates, totalling 18 fits\n",
      "[CV] END .........estimator__C=0.1, estimator__kernel=linear; total time=   2.2s\n",
      "[CV] END .........estimator__C=0.1, estimator__kernel=linear; total time=   2.2s\n",
      "[CV] END .........estimator__C=0.1, estimator__kernel=linear; total time=   2.1s\n",
      "[CV] END ............estimator__C=0.1, estimator__kernel=rbf; total time=   3.0s\n",
      "[CV] END ............estimator__C=0.1, estimator__kernel=rbf; total time=   3.0s\n",
      "[CV] END ............estimator__C=0.1, estimator__kernel=rbf; total time=   3.0s\n",
      "[CV] END ...........estimator__C=1, estimator__kernel=linear; total time=   2.0s\n",
      "[CV] END ...........estimator__C=1, estimator__kernel=linear; total time=   2.0s\n",
      "[CV] END ...........estimator__C=1, estimator__kernel=linear; total time=   1.9s\n",
      "[CV] END ..............estimator__C=1, estimator__kernel=rbf; total time=   3.0s\n",
      "[CV] END ..............estimator__C=1, estimator__kernel=rbf; total time=   3.1s\n",
      "[CV] END ..............estimator__C=1, estimator__kernel=rbf; total time=   3.2s\n",
      "[CV] END ..........estimator__C=10, estimator__kernel=linear; total time=   2.3s\n",
      "[CV] END ..........estimator__C=10, estimator__kernel=linear; total time=   2.4s\n",
      "[CV] END ..........estimator__C=10, estimator__kernel=linear; total time=   2.4s\n",
      "[CV] END .............estimator__C=10, estimator__kernel=rbf; total time=   3.3s\n",
      "[CV] END .............estimator__C=10, estimator__kernel=rbf; total time=   3.2s\n",
      "[CV] END .............estimator__C=10, estimator__kernel=rbf; total time=   3.2s\n",
      "SVM: \n",
      "    Accuracy: 0.7326\n",
      "    F1-Score: 0.7175\n",
      "    Hamming Loss: 0.2674\n",
      "______________________________________________________________________________________\n",
      "Training and Tuning: Random Forest ...\n",
      "Fitting 3 folds for each of 3 candidates, totalling 9 fits\n",
      "[CV] END ....................................n_estimators=50; total time=   2.5s\n",
      "[CV] END ....................................n_estimators=50; total time=   2.6s\n",
      "[CV] END ....................................n_estimators=50; total time=   2.5s\n",
      "[CV] END ...................................n_estimators=100; total time=   5.2s\n",
      "[CV] END ...................................n_estimators=100; total time=   5.4s\n",
      "[CV] END ...................................n_estimators=100; total time=   5.2s\n",
      "[CV] END ...................................n_estimators=200; total time=  10.7s\n",
      "[CV] END ...................................n_estimators=200; total time=  10.7s\n",
      "[CV] END ...................................n_estimators=200; total time=  10.7s\n",
      "Random Forest: \n",
      "    Accuracy: 0.7077\n",
      "    F1-Score: 0.6886\n",
      "    Hamming Loss: 0.2923\n",
      "______________________________________________________________________________________\n",
      "Training and Tuning: Gradient Boosting ...\n",
      "Fitting 3 folds for each of 9 candidates, totalling 27 fits\n",
      "[CV] END ................learning_rate=0.01, n_estimators=50; total time=   4.1s\n",
      "[CV] END ................learning_rate=0.01, n_estimators=50; total time=   4.1s\n",
      "[CV] END ................learning_rate=0.01, n_estimators=50; total time=   4.1s\n",
      "[CV] END ...............learning_rate=0.01, n_estimators=100; total time=   8.1s\n",
      "[CV] END ...............learning_rate=0.01, n_estimators=100; total time=   8.1s\n",
      "[CV] END ...............learning_rate=0.01, n_estimators=100; total time=   8.3s\n",
      "[CV] END ...............learning_rate=0.01, n_estimators=200; total time=  16.4s\n",
      "[CV] END ...............learning_rate=0.01, n_estimators=200; total time=  16.3s\n",
      "[CV] END ...............learning_rate=0.01, n_estimators=200; total time=  16.7s\n",
      "[CV] END .................learning_rate=0.1, n_estimators=50; total time=   3.9s\n",
      "[CV] END .................learning_rate=0.1, n_estimators=50; total time=   4.0s\n",
      "[CV] END .................learning_rate=0.1, n_estimators=50; total time=   4.0s\n",
      "[CV] END ................learning_rate=0.1, n_estimators=100; total time=   8.0s\n",
      "[CV] END ................learning_rate=0.1, n_estimators=100; total time=   8.1s\n",
      "[CV] END ................learning_rate=0.1, n_estimators=100; total time=   8.2s\n",
      "[CV] END ................learning_rate=0.1, n_estimators=200; total time=  15.9s\n",
      "[CV] END ................learning_rate=0.1, n_estimators=200; total time=  16.2s\n",
      "[CV] END ................learning_rate=0.1, n_estimators=200; total time=  16.2s\n",
      "[CV] END .................learning_rate=0.2, n_estimators=50; total time=   4.1s\n",
      "[CV] END .................learning_rate=0.2, n_estimators=50; total time=   4.0s\n",
      "[CV] END .................learning_rate=0.2, n_estimators=50; total time=   4.3s\n",
      "[CV] END ................learning_rate=0.2, n_estimators=100; total time=   8.3s\n",
      "[CV] END ................learning_rate=0.2, n_estimators=100; total time=   8.2s\n",
      "[CV] END ................learning_rate=0.2, n_estimators=100; total time=   8.7s\n",
      "[CV] END ................learning_rate=0.2, n_estimators=200; total time=  17.0s\n",
      "[CV] END ................learning_rate=0.2, n_estimators=200; total time=  16.4s\n",
      "[CV] END ................learning_rate=0.2, n_estimators=200; total time=  16.5s\n",
      "Gradient Boosting: \n",
      "    Accuracy: 0.7032\n",
      "    F1-Score: 0.6857\n",
      "    Hamming Loss: 0.2968\n",
      "______________________________________________________________________________________\n",
      "Training and Tuning: SGD Classifier ...\n",
      "Fitting 3 folds for each of 6 candidates, totalling 18 fits\n",
      "[CV] END ...........................loss=hinge, max_iter=100; total time=   0.0s\n",
      "[CV] END ...........................loss=hinge, max_iter=100; total time=   0.0s\n",
      "[CV] END ...........................loss=hinge, max_iter=100; total time=   0.0s\n",
      "[CV] END ...........................loss=hinge, max_iter=200; total time=   0.0s\n",
      "[CV] END ...........................loss=hinge, max_iter=200; total time=   0.0s\n",
      "[CV] END ...........................loss=hinge, max_iter=200; total time=   0.0s\n",
      "[CV] END ...........................loss=hinge, max_iter=300; total time=   0.0s\n",
      "[CV] END ...........................loss=hinge, max_iter=300; total time=   0.0s\n",
      "[CV] END ...........................loss=hinge, max_iter=300; total time=   0.0s\n",
      "[CV] END .............................loss=log, max_iter=100; total time=   0.0s\n",
      "[CV] END .............................loss=log, max_iter=100; total time=   0.0s\n",
      "[CV] END .............................loss=log, max_iter=100; total time=   0.0s\n",
      "[CV] END .............................loss=log, max_iter=200; total time=   0.0s\n",
      "[CV] END .............................loss=log, max_iter=200; total time=   0.0s\n",
      "[CV] END .............................loss=log, max_iter=200; total time=   0.0s\n",
      "[CV] END .............................loss=log, max_iter=300; total time=   0.0s\n",
      "[CV] END .............................loss=log, max_iter=300; total time=   0.0s\n",
      "[CV] END .............................loss=log, max_iter=300; total time=   0.0s\n",
      "SGD Classifier: \n",
      "    Accuracy: 0.7236\n",
      "    F1-Score: 0.7135\n",
      "    Hamming Loss: 0.2764\n",
      "______________________________________________________________________________________\n",
      "Training and Tuning: XGBoost ...\n",
      "Fitting 3 folds for each of 9 candidates, totalling 27 fits\n"
     ]
    },
    {
     "name": "stderr",
     "output_type": "stream",
     "text": [
      "C:\\Users\\CHAITANYA\\AppData\\Local\\Programs\\Python\\Python311\\Lib\\site-packages\\sklearn\\model_selection\\_validation.py:542: FitFailedWarning: \n",
      "9 fits failed out of a total of 18.\n",
      "The score on these train-test partitions for these parameters will be set to nan.\n",
      "If these failures are not expected, you can try to debug them by setting error_score='raise'.\n",
      "\n",
      "Below are more details about the failures:\n",
      "--------------------------------------------------------------------------------\n",
      "9 fits failed with the following error:\n",
      "Traceback (most recent call last):\n",
      "  File \"C:\\Users\\CHAITANYA\\AppData\\Local\\Programs\\Python\\Python311\\Lib\\site-packages\\sklearn\\model_selection\\_validation.py\", line 890, in _fit_and_score\n",
      "    estimator.fit(X_train, y_train, **fit_params)\n",
      "  File \"C:\\Users\\CHAITANYA\\AppData\\Local\\Programs\\Python\\Python311\\Lib\\site-packages\\sklearn\\base.py\", line 1344, in wrapper\n",
      "    estimator._validate_params()\n",
      "  File \"C:\\Users\\CHAITANYA\\AppData\\Local\\Programs\\Python\\Python311\\Lib\\site-packages\\sklearn\\base.py\", line 666, in _validate_params\n",
      "    validate_parameter_constraints(\n",
      "  File \"C:\\Users\\CHAITANYA\\AppData\\Local\\Programs\\Python\\Python311\\Lib\\site-packages\\sklearn\\utils\\_param_validation.py\", line 95, in validate_parameter_constraints\n",
      "    raise InvalidParameterError(\n",
      "sklearn.utils._param_validation.InvalidParameterError: The 'loss' parameter of SGDClassifier must be a str among {'squared_hinge', 'perceptron', 'log_loss', 'hinge', 'epsilon_insensitive', 'modified_huber', 'squared_error', 'huber', 'squared_epsilon_insensitive'}. Got 'log' instead.\n",
      "\n",
      "  warnings.warn(some_fits_failed_message, FitFailedWarning)\n",
      "C:\\Users\\CHAITANYA\\AppData\\Local\\Programs\\Python\\Python311\\Lib\\site-packages\\sklearn\\model_selection\\_search.py:1051: UserWarning: One or more of the test scores are non-finite: [0.71946559 0.72022144 0.71870992        nan        nan        nan]\n",
      "  warnings.warn(\n"
     ]
    },
    {
     "name": "stdout",
     "output_type": "stream",
     "text": [
      "[CV] END ................learning_rate=0.01, n_estimators=50; total time=   2.7s\n",
      "[CV] END ................learning_rate=0.01, n_estimators=50; total time=   0.7s\n",
      "[CV] END ................learning_rate=0.01, n_estimators=50; total time=   0.8s\n",
      "[CV] END ...............learning_rate=0.01, n_estimators=100; total time=   1.4s\n",
      "[CV] END ...............learning_rate=0.01, n_estimators=100; total time=   1.5s\n",
      "[CV] END ...............learning_rate=0.01, n_estimators=100; total time=   1.6s\n",
      "[CV] END ...............learning_rate=0.01, n_estimators=200; total time=   2.8s\n",
      "[CV] END ...............learning_rate=0.01, n_estimators=200; total time=   3.0s\n",
      "[CV] END ...............learning_rate=0.01, n_estimators=200; total time=   3.1s\n",
      "[CV] END .................learning_rate=0.1, n_estimators=50; total time=   0.6s\n",
      "[CV] END .................learning_rate=0.1, n_estimators=50; total time=   0.6s\n",
      "[CV] END .................learning_rate=0.1, n_estimators=50; total time=   0.6s\n",
      "[CV] END ................learning_rate=0.1, n_estimators=100; total time=   1.2s\n",
      "[CV] END ................learning_rate=0.1, n_estimators=100; total time=   1.2s\n",
      "[CV] END ................learning_rate=0.1, n_estimators=100; total time=   1.1s\n",
      "[CV] END ................learning_rate=0.1, n_estimators=200; total time=   2.2s\n",
      "[CV] END ................learning_rate=0.1, n_estimators=200; total time=   2.3s\n",
      "[CV] END ................learning_rate=0.1, n_estimators=200; total time=   2.3s\n",
      "[CV] END .................learning_rate=0.2, n_estimators=50; total time=   0.5s\n",
      "[CV] END .................learning_rate=0.2, n_estimators=50; total time=   0.6s\n",
      "[CV] END .................learning_rate=0.2, n_estimators=50; total time=   0.6s\n",
      "[CV] END ................learning_rate=0.2, n_estimators=100; total time=   1.3s\n",
      "[CV] END ................learning_rate=0.2, n_estimators=100; total time=   1.2s\n",
      "[CV] END ................learning_rate=0.2, n_estimators=100; total time=   1.2s\n",
      "[CV] END ................learning_rate=0.2, n_estimators=200; total time=   2.1s\n",
      "[CV] END ................learning_rate=0.2, n_estimators=200; total time=   2.1s\n",
      "[CV] END ................learning_rate=0.2, n_estimators=200; total time=   2.1s\n",
      "XGBoost: \n",
      "    Accuracy: 0.7077\n",
      "    F1-Score: 0.6909\n",
      "    Hamming Loss: 0.2923\n",
      "______________________________________________________________________________________\n",
      "\n",
      "Best Model: OneVsRestClassifier(estimator=SVC(C=1, kernel='linear'))\n",
      "\n"
     ]
    }
   ],
   "source": [
    "# Model Training and Evaluation \n",
    "\n",
    "# define a list of classifiers for iteration \n",
    "classifiers = [\n",
    "    ('Naive Bayes', MultinomialNB(), {}), \n",
    "    ('Logistic Regression', LogisticRegression(), {'C': [0.001, 0.01, 0.1, 1, 10]}), \n",
    "    ('SVM', OneVsRestClassifier(SVC()), {'estimator__C': [0.1, 1, 10], 'estimator__kernel': ['linear', 'rbf']}), \n",
    "    ('Random Forest', RandomForestClassifier(), {'n_estimators': [50, 100, 200]}), \n",
    "    ('Gradient Boosting', GradientBoostingClassifier(), {'n_estimators': [50, 100, 200], 'learning_rate': [0.01, 0.1, 0.2]}), \n",
    "    ('SGD Classifier', SGDClassifier(), {'max_iter': [100, 200, 300], 'loss': ['hinge', 'log']}), \n",
    "    ('XGBoost', XGBClassifier(), {'n_estimators': [50, 100, 200], 'learning_rate': [0.01, 0.1, 0.2]})\n",
    "]\n",
    "best_model = None\n",
    "best_score = 0.0 \n",
    "\n",
    "# iterate through classifiers and perform hyperparameter tuning \n",
    "for name, classifier, param_grid in classifiers:\n",
    "    print(f\"Training and Tuning: {name} ...\")\n",
    "\n",
    "    grid_search = GridSearchCV(classifier, param_grid, scoring='accuracy', cv=3, verbose=2, n_jobs=1)\n",
    "    grid_search.fit(X_train_embedded, y_train_encoded)\n",
    "\n",
    "    y_pred_encoded = grid_search.predict(X_test_embedded)\n",
    "    accuracy = accuracy_score(y_test_encoded, y_pred_encoded)\n",
    "    f1 = f1_score(y_test_encoded, y_pred_encoded, average='weighted')\n",
    "    hamming = hamming_loss(y_test_encoded, y_pred_encoded)\n",
    "\n",
    "    print(f\"{name}: \")\n",
    "    print(f\"    Accuracy: {accuracy:.4f}\\n    F1-Score: {f1:.4f}\\n    Hamming Loss: {hamming:.4f}\")\n",
    "    print(\"______________________________________________________________________________________\")\n",
    "\n",
    "    if accuracy > best_score: \n",
    "        best_score = accuracy\n",
    "        best_model = grid_search.best_estimator_\n",
    "\n",
    "print(f\"\\nBest Model: {best_model}\\n\")"
   ]
  },
  {
   "cell_type": "markdown",
   "metadata": {},
   "source": [
    "The whole dataset is split into train and validation datasets to compute evaluation scores on various model architectures. \n",
    "\n",
    "Now, the best model will be trained on the entire dataset to produce a stable model that can be applied efficiently on real-time data. "
   ]
  },
  {
   "cell_type": "code",
   "execution_count": 25,
   "metadata": {},
   "outputs": [],
   "source": [
    "# Training the finalized model on whole dataset (train+test) for real-time usage \n",
    "\n",
    "### Word Representations - Embedding and Encoding on the whole dataset ### \n",
    "\n",
    "X = data['Sentence']\n",
    "y = data['Sentiment']\n",
    "\n",
    "# Embedding total X using TF-IDF\n",
    "X_embedded = vectorizer.fit_transform(X) # using the 'vectorizer' from above \n",
    "# Encoding total y using LabelEncoder\n",
    "y_encoded = sentiment_encoder.fit_transform(y) # using the 'sentiment_encoder' from above "
   ]
  },
  {
   "cell_type": "code",
   "execution_count": 26,
   "metadata": {},
   "outputs": [
    {
     "data": {
      "text/html": [
       "<style>#sk-container-id-1 {\n",
       "  /* Definition of color scheme common for light and dark mode */\n",
       "  --sklearn-color-text: black;\n",
       "  --sklearn-color-line: gray;\n",
       "  /* Definition of color scheme for unfitted estimators */\n",
       "  --sklearn-color-unfitted-level-0: #fff5e6;\n",
       "  --sklearn-color-unfitted-level-1: #f6e4d2;\n",
       "  --sklearn-color-unfitted-level-2: #ffe0b3;\n",
       "  --sklearn-color-unfitted-level-3: chocolate;\n",
       "  /* Definition of color scheme for fitted estimators */\n",
       "  --sklearn-color-fitted-level-0: #f0f8ff;\n",
       "  --sklearn-color-fitted-level-1: #d4ebff;\n",
       "  --sklearn-color-fitted-level-2: #b3dbfd;\n",
       "  --sklearn-color-fitted-level-3: cornflowerblue;\n",
       "\n",
       "  /* Specific color for light theme */\n",
       "  --sklearn-color-text-on-default-background: var(--sg-text-color, var(--theme-code-foreground, var(--jp-content-font-color1, black)));\n",
       "  --sklearn-color-background: var(--sg-background-color, var(--theme-background, var(--jp-layout-color0, white)));\n",
       "  --sklearn-color-border-box: var(--sg-text-color, var(--theme-code-foreground, var(--jp-content-font-color1, black)));\n",
       "  --sklearn-color-icon: #696969;\n",
       "\n",
       "  @media (prefers-color-scheme: dark) {\n",
       "    /* Redefinition of color scheme for dark theme */\n",
       "    --sklearn-color-text-on-default-background: var(--sg-text-color, var(--theme-code-foreground, var(--jp-content-font-color1, white)));\n",
       "    --sklearn-color-background: var(--sg-background-color, var(--theme-background, var(--jp-layout-color0, #111)));\n",
       "    --sklearn-color-border-box: var(--sg-text-color, var(--theme-code-foreground, var(--jp-content-font-color1, white)));\n",
       "    --sklearn-color-icon: #878787;\n",
       "  }\n",
       "}\n",
       "\n",
       "#sk-container-id-1 {\n",
       "  color: var(--sklearn-color-text);\n",
       "}\n",
       "\n",
       "#sk-container-id-1 pre {\n",
       "  padding: 0;\n",
       "}\n",
       "\n",
       "#sk-container-id-1 input.sk-hidden--visually {\n",
       "  border: 0;\n",
       "  clip: rect(1px 1px 1px 1px);\n",
       "  clip: rect(1px, 1px, 1px, 1px);\n",
       "  height: 1px;\n",
       "  margin: -1px;\n",
       "  overflow: hidden;\n",
       "  padding: 0;\n",
       "  position: absolute;\n",
       "  width: 1px;\n",
       "}\n",
       "\n",
       "#sk-container-id-1 div.sk-dashed-wrapped {\n",
       "  border: 1px dashed var(--sklearn-color-line);\n",
       "  margin: 0 0.4em 0.5em 0.4em;\n",
       "  box-sizing: border-box;\n",
       "  padding-bottom: 0.4em;\n",
       "  background-color: var(--sklearn-color-background);\n",
       "}\n",
       "\n",
       "#sk-container-id-1 div.sk-container {\n",
       "  /* jupyter's `normalize.less` sets `[hidden] { display: none; }`\n",
       "     but bootstrap.min.css set `[hidden] { display: none !important; }`\n",
       "     so we also need the `!important` here to be able to override the\n",
       "     default hidden behavior on the sphinx rendered scikit-learn.org.\n",
       "     See: https://github.com/scikit-learn/scikit-learn/issues/21755 */\n",
       "  display: inline-block !important;\n",
       "  position: relative;\n",
       "}\n",
       "\n",
       "#sk-container-id-1 div.sk-text-repr-fallback {\n",
       "  display: none;\n",
       "}\n",
       "\n",
       "div.sk-parallel-item,\n",
       "div.sk-serial,\n",
       "div.sk-item {\n",
       "  /* draw centered vertical line to link estimators */\n",
       "  background-image: linear-gradient(var(--sklearn-color-text-on-default-background), var(--sklearn-color-text-on-default-background));\n",
       "  background-size: 2px 100%;\n",
       "  background-repeat: no-repeat;\n",
       "  background-position: center center;\n",
       "}\n",
       "\n",
       "/* Parallel-specific style estimator block */\n",
       "\n",
       "#sk-container-id-1 div.sk-parallel-item::after {\n",
       "  content: \"\";\n",
       "  width: 100%;\n",
       "  border-bottom: 2px solid var(--sklearn-color-text-on-default-background);\n",
       "  flex-grow: 1;\n",
       "}\n",
       "\n",
       "#sk-container-id-1 div.sk-parallel {\n",
       "  display: flex;\n",
       "  align-items: stretch;\n",
       "  justify-content: center;\n",
       "  background-color: var(--sklearn-color-background);\n",
       "  position: relative;\n",
       "}\n",
       "\n",
       "#sk-container-id-1 div.sk-parallel-item {\n",
       "  display: flex;\n",
       "  flex-direction: column;\n",
       "}\n",
       "\n",
       "#sk-container-id-1 div.sk-parallel-item:first-child::after {\n",
       "  align-self: flex-end;\n",
       "  width: 50%;\n",
       "}\n",
       "\n",
       "#sk-container-id-1 div.sk-parallel-item:last-child::after {\n",
       "  align-self: flex-start;\n",
       "  width: 50%;\n",
       "}\n",
       "\n",
       "#sk-container-id-1 div.sk-parallel-item:only-child::after {\n",
       "  width: 0;\n",
       "}\n",
       "\n",
       "/* Serial-specific style estimator block */\n",
       "\n",
       "#sk-container-id-1 div.sk-serial {\n",
       "  display: flex;\n",
       "  flex-direction: column;\n",
       "  align-items: center;\n",
       "  background-color: var(--sklearn-color-background);\n",
       "  padding-right: 1em;\n",
       "  padding-left: 1em;\n",
       "}\n",
       "\n",
       "\n",
       "/* Toggleable style: style used for estimator/Pipeline/ColumnTransformer box that is\n",
       "clickable and can be expanded/collapsed.\n",
       "- Pipeline and ColumnTransformer use this feature and define the default style\n",
       "- Estimators will overwrite some part of the style using the `sk-estimator` class\n",
       "*/\n",
       "\n",
       "/* Pipeline and ColumnTransformer style (default) */\n",
       "\n",
       "#sk-container-id-1 div.sk-toggleable {\n",
       "  /* Default theme specific background. It is overwritten whether we have a\n",
       "  specific estimator or a Pipeline/ColumnTransformer */\n",
       "  background-color: var(--sklearn-color-background);\n",
       "}\n",
       "\n",
       "/* Toggleable label */\n",
       "#sk-container-id-1 label.sk-toggleable__label {\n",
       "  cursor: pointer;\n",
       "  display: block;\n",
       "  width: 100%;\n",
       "  margin-bottom: 0;\n",
       "  padding: 0.5em;\n",
       "  box-sizing: border-box;\n",
       "  text-align: center;\n",
       "}\n",
       "\n",
       "#sk-container-id-1 label.sk-toggleable__label-arrow:before {\n",
       "  /* Arrow on the left of the label */\n",
       "  content: \"▸\";\n",
       "  float: left;\n",
       "  margin-right: 0.25em;\n",
       "  color: var(--sklearn-color-icon);\n",
       "}\n",
       "\n",
       "#sk-container-id-1 label.sk-toggleable__label-arrow:hover:before {\n",
       "  color: var(--sklearn-color-text);\n",
       "}\n",
       "\n",
       "/* Toggleable content - dropdown */\n",
       "\n",
       "#sk-container-id-1 div.sk-toggleable__content {\n",
       "  max-height: 0;\n",
       "  max-width: 0;\n",
       "  overflow: hidden;\n",
       "  text-align: left;\n",
       "  /* unfitted */\n",
       "  background-color: var(--sklearn-color-unfitted-level-0);\n",
       "}\n",
       "\n",
       "#sk-container-id-1 div.sk-toggleable__content.fitted {\n",
       "  /* fitted */\n",
       "  background-color: var(--sklearn-color-fitted-level-0);\n",
       "}\n",
       "\n",
       "#sk-container-id-1 div.sk-toggleable__content pre {\n",
       "  margin: 0.2em;\n",
       "  border-radius: 0.25em;\n",
       "  color: var(--sklearn-color-text);\n",
       "  /* unfitted */\n",
       "  background-color: var(--sklearn-color-unfitted-level-0);\n",
       "}\n",
       "\n",
       "#sk-container-id-1 div.sk-toggleable__content.fitted pre {\n",
       "  /* unfitted */\n",
       "  background-color: var(--sklearn-color-fitted-level-0);\n",
       "}\n",
       "\n",
       "#sk-container-id-1 input.sk-toggleable__control:checked~div.sk-toggleable__content {\n",
       "  /* Expand drop-down */\n",
       "  max-height: 200px;\n",
       "  max-width: 100%;\n",
       "  overflow: auto;\n",
       "}\n",
       "\n",
       "#sk-container-id-1 input.sk-toggleable__control:checked~label.sk-toggleable__label-arrow:before {\n",
       "  content: \"▾\";\n",
       "}\n",
       "\n",
       "/* Pipeline/ColumnTransformer-specific style */\n",
       "\n",
       "#sk-container-id-1 div.sk-label input.sk-toggleable__control:checked~label.sk-toggleable__label {\n",
       "  color: var(--sklearn-color-text);\n",
       "  background-color: var(--sklearn-color-unfitted-level-2);\n",
       "}\n",
       "\n",
       "#sk-container-id-1 div.sk-label.fitted input.sk-toggleable__control:checked~label.sk-toggleable__label {\n",
       "  background-color: var(--sklearn-color-fitted-level-2);\n",
       "}\n",
       "\n",
       "/* Estimator-specific style */\n",
       "\n",
       "/* Colorize estimator box */\n",
       "#sk-container-id-1 div.sk-estimator input.sk-toggleable__control:checked~label.sk-toggleable__label {\n",
       "  /* unfitted */\n",
       "  background-color: var(--sklearn-color-unfitted-level-2);\n",
       "}\n",
       "\n",
       "#sk-container-id-1 div.sk-estimator.fitted input.sk-toggleable__control:checked~label.sk-toggleable__label {\n",
       "  /* fitted */\n",
       "  background-color: var(--sklearn-color-fitted-level-2);\n",
       "}\n",
       "\n",
       "#sk-container-id-1 div.sk-label label.sk-toggleable__label,\n",
       "#sk-container-id-1 div.sk-label label {\n",
       "  /* The background is the default theme color */\n",
       "  color: var(--sklearn-color-text-on-default-background);\n",
       "}\n",
       "\n",
       "/* On hover, darken the color of the background */\n",
       "#sk-container-id-1 div.sk-label:hover label.sk-toggleable__label {\n",
       "  color: var(--sklearn-color-text);\n",
       "  background-color: var(--sklearn-color-unfitted-level-2);\n",
       "}\n",
       "\n",
       "/* Label box, darken color on hover, fitted */\n",
       "#sk-container-id-1 div.sk-label.fitted:hover label.sk-toggleable__label.fitted {\n",
       "  color: var(--sklearn-color-text);\n",
       "  background-color: var(--sklearn-color-fitted-level-2);\n",
       "}\n",
       "\n",
       "/* Estimator label */\n",
       "\n",
       "#sk-container-id-1 div.sk-label label {\n",
       "  font-family: monospace;\n",
       "  font-weight: bold;\n",
       "  display: inline-block;\n",
       "  line-height: 1.2em;\n",
       "}\n",
       "\n",
       "#sk-container-id-1 div.sk-label-container {\n",
       "  text-align: center;\n",
       "}\n",
       "\n",
       "/* Estimator-specific */\n",
       "#sk-container-id-1 div.sk-estimator {\n",
       "  font-family: monospace;\n",
       "  border: 1px dotted var(--sklearn-color-border-box);\n",
       "  border-radius: 0.25em;\n",
       "  box-sizing: border-box;\n",
       "  margin-bottom: 0.5em;\n",
       "  /* unfitted */\n",
       "  background-color: var(--sklearn-color-unfitted-level-0);\n",
       "}\n",
       "\n",
       "#sk-container-id-1 div.sk-estimator.fitted {\n",
       "  /* fitted */\n",
       "  background-color: var(--sklearn-color-fitted-level-0);\n",
       "}\n",
       "\n",
       "/* on hover */\n",
       "#sk-container-id-1 div.sk-estimator:hover {\n",
       "  /* unfitted */\n",
       "  background-color: var(--sklearn-color-unfitted-level-2);\n",
       "}\n",
       "\n",
       "#sk-container-id-1 div.sk-estimator.fitted:hover {\n",
       "  /* fitted */\n",
       "  background-color: var(--sklearn-color-fitted-level-2);\n",
       "}\n",
       "\n",
       "/* Specification for estimator info (e.g. \"i\" and \"?\") */\n",
       "\n",
       "/* Common style for \"i\" and \"?\" */\n",
       "\n",
       ".sk-estimator-doc-link,\n",
       "a:link.sk-estimator-doc-link,\n",
       "a:visited.sk-estimator-doc-link {\n",
       "  float: right;\n",
       "  font-size: smaller;\n",
       "  line-height: 1em;\n",
       "  font-family: monospace;\n",
       "  background-color: var(--sklearn-color-background);\n",
       "  border-radius: 1em;\n",
       "  height: 1em;\n",
       "  width: 1em;\n",
       "  text-decoration: none !important;\n",
       "  margin-left: 1ex;\n",
       "  /* unfitted */\n",
       "  border: var(--sklearn-color-unfitted-level-1) 1pt solid;\n",
       "  color: var(--sklearn-color-unfitted-level-1);\n",
       "}\n",
       "\n",
       ".sk-estimator-doc-link.fitted,\n",
       "a:link.sk-estimator-doc-link.fitted,\n",
       "a:visited.sk-estimator-doc-link.fitted {\n",
       "  /* fitted */\n",
       "  border: var(--sklearn-color-fitted-level-1) 1pt solid;\n",
       "  color: var(--sklearn-color-fitted-level-1);\n",
       "}\n",
       "\n",
       "/* On hover */\n",
       "div.sk-estimator:hover .sk-estimator-doc-link:hover,\n",
       ".sk-estimator-doc-link:hover,\n",
       "div.sk-label-container:hover .sk-estimator-doc-link:hover,\n",
       ".sk-estimator-doc-link:hover {\n",
       "  /* unfitted */\n",
       "  background-color: var(--sklearn-color-unfitted-level-3);\n",
       "  color: var(--sklearn-color-background);\n",
       "  text-decoration: none;\n",
       "}\n",
       "\n",
       "div.sk-estimator.fitted:hover .sk-estimator-doc-link.fitted:hover,\n",
       ".sk-estimator-doc-link.fitted:hover,\n",
       "div.sk-label-container:hover .sk-estimator-doc-link.fitted:hover,\n",
       ".sk-estimator-doc-link.fitted:hover {\n",
       "  /* fitted */\n",
       "  background-color: var(--sklearn-color-fitted-level-3);\n",
       "  color: var(--sklearn-color-background);\n",
       "  text-decoration: none;\n",
       "}\n",
       "\n",
       "/* Span, style for the box shown on hovering the info icon */\n",
       ".sk-estimator-doc-link span {\n",
       "  display: none;\n",
       "  z-index: 9999;\n",
       "  position: relative;\n",
       "  font-weight: normal;\n",
       "  right: .2ex;\n",
       "  padding: .5ex;\n",
       "  margin: .5ex;\n",
       "  width: min-content;\n",
       "  min-width: 20ex;\n",
       "  max-width: 50ex;\n",
       "  color: var(--sklearn-color-text);\n",
       "  box-shadow: 2pt 2pt 4pt #999;\n",
       "  /* unfitted */\n",
       "  background: var(--sklearn-color-unfitted-level-0);\n",
       "  border: .5pt solid var(--sklearn-color-unfitted-level-3);\n",
       "}\n",
       "\n",
       ".sk-estimator-doc-link.fitted span {\n",
       "  /* fitted */\n",
       "  background: var(--sklearn-color-fitted-level-0);\n",
       "  border: var(--sklearn-color-fitted-level-3);\n",
       "}\n",
       "\n",
       ".sk-estimator-doc-link:hover span {\n",
       "  display: block;\n",
       "}\n",
       "\n",
       "/* \"?\"-specific style due to the `<a>` HTML tag */\n",
       "\n",
       "#sk-container-id-1 a.estimator_doc_link {\n",
       "  float: right;\n",
       "  font-size: 1rem;\n",
       "  line-height: 1em;\n",
       "  font-family: monospace;\n",
       "  background-color: var(--sklearn-color-background);\n",
       "  border-radius: 1rem;\n",
       "  height: 1rem;\n",
       "  width: 1rem;\n",
       "  text-decoration: none;\n",
       "  /* unfitted */\n",
       "  color: var(--sklearn-color-unfitted-level-1);\n",
       "  border: var(--sklearn-color-unfitted-level-1) 1pt solid;\n",
       "}\n",
       "\n",
       "#sk-container-id-1 a.estimator_doc_link.fitted {\n",
       "  /* fitted */\n",
       "  border: var(--sklearn-color-fitted-level-1) 1pt solid;\n",
       "  color: var(--sklearn-color-fitted-level-1);\n",
       "}\n",
       "\n",
       "/* On hover */\n",
       "#sk-container-id-1 a.estimator_doc_link:hover {\n",
       "  /* unfitted */\n",
       "  background-color: var(--sklearn-color-unfitted-level-3);\n",
       "  color: var(--sklearn-color-background);\n",
       "  text-decoration: none;\n",
       "}\n",
       "\n",
       "#sk-container-id-1 a.estimator_doc_link.fitted:hover {\n",
       "  /* fitted */\n",
       "  background-color: var(--sklearn-color-fitted-level-3);\n",
       "}\n",
       "</style><div id=\"sk-container-id-1\" class=\"sk-top-container\"><div class=\"sk-text-repr-fallback\"><pre>XGBClassifier(base_score=None, booster=None, callbacks=None,\n",
       "              colsample_bylevel=None, colsample_bynode=None,\n",
       "              colsample_bytree=None, device=None, early_stopping_rounds=None,\n",
       "              enable_categorical=False, eval_metric=None, feature_types=None,\n",
       "              gamma=None, grow_policy=None, importance_type=None,\n",
       "              interaction_constraints=None, learning_rate=0.01, max_bin=None,\n",
       "              max_cat_threshold=None, max_cat_to_onehot=None,\n",
       "              max_delta_step=None, max_depth=None, max_leaves=None,\n",
       "              min_child_weight=None, missing=nan, monotone_constraints=None,\n",
       "              multi_strategy=None, n_estimators=100, n_jobs=None,\n",
       "              num_parallel_tree=None, objective=&#x27;multi:softprob&#x27;, ...)</pre><b>In a Jupyter environment, please rerun this cell to show the HTML representation or trust the notebook. <br />On GitHub, the HTML representation is unable to render, please try loading this page with nbviewer.org.</b></div><div class=\"sk-container\" hidden><div class=\"sk-item\"><div class=\"sk-estimator fitted sk-toggleable\"><input class=\"sk-toggleable__control sk-hidden--visually\" id=\"sk-estimator-id-1\" type=\"checkbox\" checked><label for=\"sk-estimator-id-1\" class=\"sk-toggleable__label fitted sk-toggleable__label-arrow fitted\">&nbsp;XGBClassifier<span class=\"sk-estimator-doc-link fitted\">i<span>Fitted</span></span></label><div class=\"sk-toggleable__content fitted\"><pre>XGBClassifier(base_score=None, booster=None, callbacks=None,\n",
       "              colsample_bylevel=None, colsample_bynode=None,\n",
       "              colsample_bytree=None, device=None, early_stopping_rounds=None,\n",
       "              enable_categorical=False, eval_metric=None, feature_types=None,\n",
       "              gamma=None, grow_policy=None, importance_type=None,\n",
       "              interaction_constraints=None, learning_rate=0.01, max_bin=None,\n",
       "              max_cat_threshold=None, max_cat_to_onehot=None,\n",
       "              max_delta_step=None, max_depth=None, max_leaves=None,\n",
       "              min_child_weight=None, missing=nan, monotone_constraints=None,\n",
       "              multi_strategy=None, n_estimators=100, n_jobs=None,\n",
       "              num_parallel_tree=None, objective=&#x27;multi:softprob&#x27;, ...)</pre></div> </div></div></div></div>"
      ],
      "text/plain": [
       "XGBClassifier(base_score=None, booster=None, callbacks=None,\n",
       "              colsample_bylevel=None, colsample_bynode=None,\n",
       "              colsample_bytree=None, device=None, early_stopping_rounds=None,\n",
       "              enable_categorical=False, eval_metric=None, feature_types=None,\n",
       "              gamma=None, grow_policy=None, importance_type=None,\n",
       "              interaction_constraints=None, learning_rate=0.01, max_bin=None,\n",
       "              max_cat_threshold=None, max_cat_to_onehot=None,\n",
       "              max_delta_step=None, max_depth=None, max_leaves=None,\n",
       "              min_child_weight=None, missing=nan, monotone_constraints=None,\n",
       "              multi_strategy=None, n_estimators=100, n_jobs=None,\n",
       "              num_parallel_tree=None, objective='multi:softprob', ...)"
      ]
     },
     "execution_count": 26,
     "metadata": {},
     "output_type": "execute_result"
    }
   ],
   "source": [
    "# Selected Model Training on 100% data \n",
    "\n",
    "# model = OneVsRestClassifier(estimator=SVC(C=1, kernel='linear'))\n",
    "model = XGBClassifier(n_estimators=100, learning_rate=0.01) # selecting this model, considering model generalization \n",
    "model.fit(X_embedded, y_encoded)"
   ]
  },
  {
   "cell_type": "code",
   "execution_count": 29,
   "metadata": {},
   "outputs": [
    {
     "data": {
      "text/plain": [
       "['ml_model_dump/sentiment_encoder.joblib']"
      ]
     },
     "execution_count": 29,
     "metadata": {},
     "output_type": "execute_result"
    }
   ],
   "source": [
    "# Export/Save the trained ML Model \n",
    "\n",
    "# Save the model\n",
    "joblib.dump(model, 'ml_model_dump/model_xgb.joblib')\n",
    "# Save the vectorizer\n",
    "joblib.dump(vectorizer, 'ml_model_dump/sentence_vectorizer.joblib')\n",
    "# Save the sentiment encoder\n",
    "joblib.dump(sentiment_encoder, 'ml_model_dump/sentiment_encoder.joblib')\n"
   ]
  },
  {
   "cell_type": "code",
   "execution_count": 39,
   "metadata": {},
   "outputs": [
    {
     "name": "stdout",
     "output_type": "stream",
     "text": [
      "Sentence: $NVDA The MACD histogram is displaying a positive divergence, suggesting a favorable outlook for the stock.\n",
      "Predicted Sentiment: positive\n",
      "Class Labels: ['negative' 'neutral' 'positive']\n",
      "Probability Scores: [0.1761913  0.38173157 0.44207716]\n",
      "\n",
      "\n",
      "Sentence: Ongoing geopolitical tensions continue to impact the financial markets, creating a sense of caution among investors.\n",
      "Predicted Sentiment: neutral\n",
      "Class Labels: ['negative' 'neutral' 'positive']\n",
      "Probability Scores: [0.21156763 0.4746935  0.31373882]\n",
      "\n",
      "\n",
      "Sentence: $SPCE The company's recent announcement of delayed spaceflights has heightened investor skepticism, contributing to a significant drop in its stock value.\n",
      "Predicted Sentiment: neutral\n",
      "Class Labels: ['negative' 'neutral' 'positive']\n",
      "Probability Scores: [0.20334795 0.4951024  0.30154964]\n",
      "\n",
      "\n"
     ]
    }
   ],
   "source": [
    "# Real-time Testing with Probability Scores\n",
    "\n",
    "# Load the model\n",
    "loaded_model = joblib.load('ml_model_dump/model_xgb.joblib')\n",
    "# Load the vectorizer\n",
    "loaded_vectorizer = joblib.load('ml_model_dump/sentence_vectorizer.joblib')\n",
    "# Load the sentiment encoder\n",
    "loaded_encoder = joblib.load('ml_model_dump/sentiment_encoder.joblib')\n",
    "\n",
    "\n",
    "# new_sentences = [\"This is a positive sentence.\", \"I don't like this at all.\", \"Neutral statement here.\"]\n",
    "new_sentences = [\"$NVDA The MACD histogram is displaying a positive divergence, suggesting a favorable outlook for the stock.\", \n",
    "                 \"Ongoing geopolitical tensions continue to impact the financial markets, creating a sense of caution among investors.\", \n",
    "                 \"$SPCE The company's recent announcement of delayed spaceflights has heightened investor skepticism, contributing to a significant drop in its stock value.\"\n",
    "                ]\n",
    "new_sentences_sentiments = ['positive', 'neutral', 'negative']\n",
    "\n",
    "new_sentences_vectorized = loaded_vectorizer.transform(new_sentences)\n",
    "\n",
    "# Check if the loaded model has a predict_proba method\n",
    "if hasattr(loaded_model, \"predict_proba\"):\n",
    "    probability_scores = loaded_model.predict_proba(new_sentences_vectorized)\n",
    "else:\n",
    "    # If the loaded model does not have predict_proba, try to use decision_function\n",
    "    try:\n",
    "        probability_scores = loaded_model.decision_function(new_sentences_vectorized)\n",
    "    except AttributeError:\n",
    "        raise AttributeError(\"The loaded model does not have either predict_proba or decision_function method.\")\n",
    "\n",
    "# Get the predicted labels\n",
    "predictions_encoded = loaded_model.predict(new_sentences_vectorized)\n",
    "predictions = loaded_encoder.inverse_transform(predictions_encoded)\n",
    "\n",
    "# Get the class labels\n",
    "class_labels = loaded_encoder.classes_\n",
    "\n",
    "# Display predictions, class labels, and probability scores\n",
    "for i, sentence in enumerate(new_sentences):\n",
    "    print(f\"Sentence: {sentence}\")\n",
    "    print(f\"Predicted Sentiment: {predictions[i]}\")\n",
    "    print(\"Class Labels:\", class_labels)\n",
    "    print(f\"Probability Scores: {probability_scores[i]}\")\n",
    "    print(\"\\n\")\n"
   ]
  },
  {
   "cell_type": "markdown",
   "metadata": {},
   "source": [
    "The Classifier is decent and can be further improved using techniques like n-gram mappings. "
   ]
  },
  {
   "cell_type": "markdown",
   "metadata": {},
   "source": [
    "# 3.a. Standard Sentiment Analysis using a Deep Learning Model Pipeline (Transformers Pipeline) \n",
    "- Transformer-based models are one of the most advanced Natural Language Processing Techniques. They follow an Encoder-Decoder-based architecture and employ the concepts of self-attention to yield impressive results. \n",
    "- Building and Training Transformers from Scratch is technically and computationally expensive. Hence, a pre-trained transformer from Hugging Face is being used. "
   ]
  },
  {
   "cell_type": "code",
   "execution_count": 40,
   "metadata": {},
   "outputs": [
    {
     "name": "stdout",
     "output_type": "stream",
     "text": [
      "WARNING:tensorflow:From C:\\Users\\CHAITANYA\\AppData\\Local\\Programs\\Python\\Python311\\Lib\\site-packages\\keras\\src\\losses.py:2976: The name tf.losses.sparse_softmax_cross_entropy is deprecated. Please use tf.compat.v1.losses.sparse_softmax_cross_entropy instead.\n",
      "\n"
     ]
    }
   ],
   "source": [
    "from transformers import pipeline"
   ]
  },
  {
   "cell_type": "code",
   "execution_count": 41,
   "metadata": {},
   "outputs": [
    {
     "name": "stderr",
     "output_type": "stream",
     "text": [
      "No model was supplied, defaulted to distilbert-base-uncased-finetuned-sst-2-english and revision af0f99b (https://huggingface.co/distilbert-base-uncased-finetuned-sst-2-english).\n",
      "Using a pipeline without specifying a model name and revision in production is not recommended.\n"
     ]
    }
   ],
   "source": [
    "sentiment_pipeline = pipeline(\"sentiment-analysis\") \n",
    "\n",
    "# sentiment_pipeline = pipeline(\"sentiment-analysis\", model=\"roberta-base\") # Load the RoBERTa model"
   ]
  },
  {
   "cell_type": "code",
   "execution_count": 42,
   "metadata": {},
   "outputs": [
    {
     "data": {
      "text/plain": [
       "[{'label': 'POSITIVE', 'score': 0.9994569420814514},\n",
       " {'label': 'NEGATIVE', 'score': 0.9997925162315369}]"
      ]
     },
     "execution_count": 42,
     "metadata": {},
     "output_type": "execute_result"
    }
   ],
   "source": [
    "data = [\"It was the best of times.\", \"It was the worst of times.\"]\n",
    "sentiment_pipeline(data)"
   ]
  },
  {
   "cell_type": "markdown",
   "metadata": {},
   "source": [
    "# 3.b. Standard Sentiment Analysis by Transfer Learning on a pre-trained Deep Learning Model (DistillBERT) \n",
    "\n",
    "- The above Transformer Model Pipeline works the best, yet it is a generalized model. It's prediction accuracy can be uplifted for custom use-cases by making the model more familiar with the labelled data related to the new use-case.\n",
    "- This process of altering the output layers of the pre-trained DL model, to make it compatible in a new use-case, while preserving its acquired knowledge is Transfer Learning. "
   ]
  },
  {
   "cell_type": "code",
   "execution_count": 64,
   "metadata": {},
   "outputs": [],
   "source": [
    "# import libraries \n",
    "\n",
    "import pandas as pd \n",
    "import numpy as np\n",
    "from sklearn.model_selection import StratifiedKFold\n",
    "from sklearn.preprocessing import LabelEncoder\n",
    "from sklearn.model_selection import train_test_split\n",
    "from sklearn.metrics import accuracy_score\n",
    "\n",
    "import tensorflow as tf\n",
    "from tensorflow.keras.optimizers import Adam\n",
    "from transformers import AutoTokenizer, TFAutoModelForSequenceClassification\n",
    "from tensorflow.keras.models import Sequential\n",
    "from tensorflow.keras.layers import Embedding, LSTM, Dense, Dropout\n",
    "from tensorflow.keras.preprocessing.text import Tokenizer\n",
    "from tensorflow.keras.preprocessing.sequence import pad_sequences\n",
    "\n",
    "from transformers import AutoTokenizer\n",
    "from transformers import AutoModelForSequenceClassification\n",
    "from transformers import BertTokenizer\n",
    "\n",
    "from datasets import load_dataset\n"
   ]
  },
  {
   "cell_type": "code",
   "execution_count": 48,
   "metadata": {},
   "outputs": [
    {
     "data": {
      "text/plain": [
       "DatasetDict({\n",
       "    train: Dataset({\n",
       "        features: ['text', 'label'],\n",
       "        num_rows: 25000\n",
       "    })\n",
       "    test: Dataset({\n",
       "        features: ['text', 'label'],\n",
       "        num_rows: 25000\n",
       "    })\n",
       "    unsupervised: Dataset({\n",
       "        features: ['text', 'label'],\n",
       "        num_rows: 50000\n",
       "    })\n",
       "})"
      ]
     },
     "execution_count": 48,
     "metadata": {},
     "output_type": "execute_result"
    }
   ],
   "source": [
    "# Load the imdb dataset - from the datasets library \n",
    "\n",
    "imdb = load_dataset(\"imdb\")\n",
    "imdb"
   ]
  },
  {
   "cell_type": "markdown",
   "metadata": {},
   "source": [
    "- The loaded IMDB Dataset comprises of 25,000 rows for training and 25,000 rows for testing.\n",
    "- For ease of computation and illustration purposes, downscaling the data to 3000 randomly selected train and test sets. "
   ]
  },
  {
   "cell_type": "code",
   "execution_count": 56,
   "metadata": {},
   "outputs": [
    {
     "name": "stdout",
     "output_type": "stream",
     "text": [
      "Dataset({\n",
      "    features: ['text', 'label'],\n",
      "    num_rows: 3000\n",
      "})\n",
      "Dataset({\n",
      "    features: ['text', 'label'],\n",
      "    num_rows: 3000\n",
      "})\n"
     ]
    }
   ],
   "source": [
    "small_train_dataset = imdb[\"train\"].shuffle(seed=42).select([i for i in list(range(3000))])\n",
    "small_test_dataset = imdb[\"test\"].shuffle(seed=42).select([i for i in list(range(3000))])\n",
    "\n",
    "print(small_train_dataset)\n",
    "print(small_test_dataset)"
   ]
  },
  {
   "cell_type": "code",
   "execution_count": 57,
   "metadata": {},
   "outputs": [],
   "source": [
    "small_train_dataset = pd.DataFrame(small_train_dataset)\n",
    "small_test_dataset = pd.DataFrame(small_test_dataset)"
   ]
  },
  {
   "cell_type": "code",
   "execution_count": 58,
   "metadata": {},
   "outputs": [
    {
     "name": "stdout",
     "output_type": "stream",
     "text": [
      "(3000,)\n",
      "(3000,)\n",
      "(3000,)\n",
      "(3000,)\n"
     ]
    }
   ],
   "source": [
    "X_train = small_train_dataset['text']\n",
    "y_train = small_train_dataset['label']\n",
    "X_test = small_test_dataset['text']\n",
    "y_test = small_test_dataset['label']\n",
    "\n",
    "print(X_train.shape)\n",
    "print(y_train.shape)\n",
    "print(X_test.shape)\n",
    "print(y_test.shape)"
   ]
  },
  {
   "cell_type": "code",
   "execution_count": null,
   "metadata": {},
   "outputs": [],
   "source": [
    "# load the tokenizer\n",
    "\n",
    "# tokenizer = AutoTokenizer.from_pretrained(\"distilbert-base-uncased\")\n",
    "tokenizer = AutoTokenizer.from_pretrained(\"bert-base-cased\")\n",
    "# tokenizer = BertTokenizer.from_pretrained(\"bert-base-cased\")\n",
    "\n",
    "# Tokenize the reviews\n",
    "tokenized_data_train = tokenizer(X_train.to_list(), return_tensors=\"np\", padding=True)\n",
    "tokenized_data_test = tokenizer(X_test.to_list(), return_tensors=\"np\", padding=True)\n",
    "\n",
    "# Labels are one-dimensional numpy or tensorflow array of integers\n",
    "labels_train = np.array(y_train)  \n",
    "labels_test = np.array(y_test) \n",
    "\n",
    "# Tokenized ids\n",
    "print(tokenized_data_train[\"input_ids\"][0])"
   ]
  },
  {
   "cell_type": "code",
   "execution_count": 67,
   "metadata": {},
   "outputs": [
    {
     "name": "stderr",
     "output_type": "stream",
     "text": [
      "All PyTorch model weights were used when initializing TFBertForSequenceClassification.\n",
      "\n",
      "Some weights or buffers of the TF 2.0 model TFBertForSequenceClassification were not initialized from the PyTorch model and are newly initialized: ['classifier.weight', 'classifier.bias']\n",
      "You should probably TRAIN this model on a down-stream task to be able to use it for predictions and inference.\n"
     ]
    }
   ],
   "source": [
    "# Load model\n",
    "model = TFAutoModelForSequenceClassification.from_pretrained(\"bert-base-cased\", num_labels=2)"
   ]
  },
  {
   "cell_type": "code",
   "execution_count": 68,
   "metadata": {},
   "outputs": [],
   "source": [
    "# Loss\n",
    "loss = tf.keras.losses.SparseCategoricalCrossentropy(from_logits=True)\n",
    "\n",
    "# Compile model\n",
    "model.compile(optimizer=Adam(5e-6), loss=loss, metrics=['accuracy'])"
   ]
  },
  {
   "cell_type": "code",
   "execution_count": null,
   "metadata": {
    "scrolled": true
   },
   "outputs": [],
   "source": [
    "# Fit the model\n",
    "model.fit(dict(tokenized_data_train), \n",
    "          labels_train, \n",
    "          validation_data=(dict(tokenized_data_test), labels_test),\n",
    "          batch_size=4, \n",
    "          epochs=2)\n"
   ]
  },
  {
   "cell_type": "code",
   "execution_count": null,
   "metadata": {},
   "outputs": [],
   "source": [
    "# Predictions\n",
    "y_test_predict = model.predict(dict(tokenized_data_test))['logits']\n",
    "\n",
    "# First 5 predictions\n",
    "y_test_predict[:5]"
   ]
  },
  {
   "cell_type": "code",
   "execution_count": null,
   "metadata": {},
   "outputs": [],
   "source": [
    "# Predicted probabilities\n",
    "y_test_probabilities = tf.nn.softmax(y_test_predict)\n",
    "\n",
    "# First 5 predicted probabilities\n",
    "y_test_probabilities[:5]"
   ]
  },
  {
   "cell_type": "code",
   "execution_count": null,
   "metadata": {},
   "outputs": [],
   "source": [
    "# Predicted label\n",
    "y_test_class_preds = np.argmax(y_test_probabilities, axis=1)\n",
    "\n",
    "# First 5 predicted labels\n",
    "y_test_class_preds[:5]"
   ]
  },
  {
   "cell_type": "code",
   "execution_count": null,
   "metadata": {},
   "outputs": [],
   "source": [
    "# Accuracy\n",
    "accuracy_score(y_test_class_preds, y_test)"
   ]
  },
  {
   "cell_type": "code",
   "execution_count": null,
   "metadata": {},
   "outputs": [],
   "source": [
    "# Save tokenizer and model \n",
    "tokenizer.save_pretrained('./sentiment_transfer_learning_tensorflow/')\n",
    "model.save_pretrained('./sentiment_transfer_learning_tensorflow/')"
   ]
  },
  {
   "cell_type": "code",
   "execution_count": null,
   "metadata": {},
   "outputs": [],
   "source": [
    "# Load tokenizer and model to make predictions \n",
    "tokenizer = AutoTokenizer.from_pretrained(\"./sentiment_transfer_learning_tensorflow/\")\n",
    "loaded_model = TFAutoModelForSequenceClassification.from_pretrained('./sentiment_transfer_learning_tensorflow/')"
   ]
  },
  {
   "cell_type": "code",
   "execution_count": null,
   "metadata": {},
   "outputs": [],
   "source": [
    "# Predict logit using the loaded model\n",
    "y_test_predict = loaded_model.predict(dict(tokenized_data_test))['logits']\n",
    "\n",
    "# Take a look at the first 5 predictions\n",
    "y_test_predict[:5]"
   ]
  },
  {
   "cell_type": "code",
   "execution_count": null,
   "metadata": {},
   "outputs": [],
   "source": []
  },
  {
   "cell_type": "code",
   "execution_count": 24,
   "metadata": {},
   "outputs": [],
   "source": [
    "# apply the tokenizer \n",
    "\n",
    "def preprocess_function(examples):\n",
    "   return tokenizer(examples[\"text\"], truncation=True)\n",
    " \n",
    "tokenized_train = small_train_dataset.map(preprocess_function, batched=True)\n",
    "tokenized_test = small_test_dataset.map(preprocess_function, batched=True)"
   ]
  },
  {
   "cell_type": "code",
   "execution_count": 25,
   "metadata": {},
   "outputs": [
    {
     "name": "stderr",
     "output_type": "stream",
     "text": [
      "Some weights of DistilBertForSequenceClassification were not initialized from the model checkpoint at distilbert-base-uncased and are newly initialized: ['classifier.bias', 'classifier.weight', 'pre_classifier.bias', 'pre_classifier.weight']\n",
      "You should probably TRAIN this model on a down-stream task to be able to use it for predictions and inference.\n"
     ]
    }
   ],
   "source": [
    "### Load the pretrained DistilBERT as the base model ### \n",
    "\n",
    "model = AutoModelForSequenceClassification.from_pretrained(\"distilbert-base-uncased\", num_labels=2) # num_labels=2 represents the binary class values of the target variable "
   ]
  },
  {
   "cell_type": "code",
   "execution_count": 26,
   "metadata": {},
   "outputs": [],
   "source": [
    "import numpy as np\n",
    "from datasets import load_metric\n",
    " \n",
    "def compute_metrics(eval_pred):\n",
    "   load_accuracy = load_metric(\"accuracy\")\n",
    "   load_f1 = load_metric(\"f1\")\n",
    "  \n",
    "   logits, labels = eval_pred\n",
    "   predictions = np.argmax(logits, axis=-1)\n",
    "   accuracy = load_accuracy.compute(predictions=predictions, references=labels)[\"accuracy\"]\n",
    "   f1 = load_f1.compute(predictions=predictions, references=labels)[\"f1\"]\n",
    "   return {\"accuracy\": accuracy, \"f1\": f1}"
   ]
  },
  {
   "cell_type": "code",
   "execution_count": 28,
   "metadata": {},
   "outputs": [
    {
     "data": {
      "application/vnd.jupyter.widget-view+json": {
       "model_id": "8faf4b37a9ae405a93c77a3e5f8ee018",
       "version_major": 2,
       "version_minor": 0
      },
      "text/plain": [
       "VBox(children=(HTML(value='<center> <img\\nsrc=https://huggingface.co/front/assets/huggingface_logo-noborder.sv…"
      ]
     },
     "metadata": {},
     "output_type": "display_data"
    }
   ],
   "source": [
    "from huggingface_hub import notebook_login\n",
    "notebook_login()"
   ]
  },
  {
   "cell_type": "code",
   "execution_count": null,
   "metadata": {
    "scrolled": true
   },
   "outputs": [],
   "source": [
    "from transformers import TrainingArguments, Trainer\n",
    "\n",
    "from transformers import DataCollatorWithPadding\n",
    " \n",
    "repo_name = \"./distilbert-finetuned-imdb-3000\"\n",
    "\n",
    "\n",
    "# Define data collator\n",
    "data_collator = DataCollatorWithPadding(tokenizer=tokenizer)\n",
    "\n",
    " \n",
    "training_args = TrainingArguments(\n",
    "   output_dir=repo_name,\n",
    "   learning_rate=2e-5,\n",
    "   per_device_train_batch_size=8,\n",
    "   per_device_eval_batch_size=8,\n",
    "   num_train_epochs=2,\n",
    "   weight_decay=0.01,\n",
    "   save_strategy=\"epoch\",\n",
    "   push_to_hub=True,\n",
    ")\n",
    " \n",
    "trainer = Trainer(\n",
    "   model=model,\n",
    "   args=training_args,\n",
    "   train_dataset=tokenized_train,\n",
    "   eval_dataset=tokenized_test,\n",
    "   tokenizer=tokenizer,\n",
    "   data_collator=data_collator,\n",
    "   compute_metrics=compute_metrics,\n",
    ")\n"
   ]
  },
  {
   "cell_type": "code",
   "execution_count": null,
   "metadata": {
    "scrolled": true
   },
   "outputs": [],
   "source": [
    "trainer.train()"
   ]
  },
  {
   "cell_type": "code",
   "execution_count": null,
   "metadata": {},
   "outputs": [],
   "source": [
    "trainer.evaluate()"
   ]
  },
  {
   "cell_type": "code",
   "execution_count": null,
   "metadata": {},
   "outputs": [],
   "source": [
    "# Save the fine-tuned model\n",
    "trainer.save_pretrained(\"./distilbert-finetuned-imdb\")\n",
    "tokenizer.save_pretrained(\"./distilbert-finetuned-imdb\")\n",
    "\n",
    "trainer.push_to_hub()"
   ]
  },
  {
   "cell_type": "markdown",
   "metadata": {},
   "source": [
    "# 3.c. Standard Sentiment Analysis using a custom Deep Learning Model (LSTM built-from-scratch) \n",
    "- When the size of the training datset grows large, advanced Deep Learning models can be employed in place of Machine Learning Models for improved precision in predictions.\n",
    "- Dataset: IMDB Reviews Dataset\n",
    "- DL Model: Many DL model architectures like LSTM, GRU, etc., can be used to build a Sentiment Analysis DL model. Currently, using the LSTM Model with Adam Optimizer for this execution. \n",
    "- The steps involved in creating a sentiment analysis DL Model are as follows:\n",
    "\n",
    "  - a. import custom  dataset. IMDB Movie Reviews Dataset with 50K rows is used.\n",
    "  - b. Pre-process and Clean the dataset. \n",
    "  - c. Transform the textual columns into vectors. \n",
    "  - d. Split the dataset into train and validation sets. \n",
    "  - d. Define a DL Model Architecture. Train the DL Model on the train dataset and evaluate against validation dataset. \n",
    "  - f. Apply the finalized Sentiment Analysis DL Model on real-time testing data to make predictions.\n",
    " \n",
    "Train a suitable DL classification model on the processed data for sentiment classification. Currently, LSTM is being used. Add dropouts and tune the hyperparameters to get a good accuracy score. \n"
   ]
  },
  {
   "cell_type": "code",
   "execution_count": 23,
   "metadata": {},
   "outputs": [],
   "source": [
    "# import libraries \n",
    "\n",
    "from datasets import load_dataset\n",
    "import re\n",
    "\n",
    "import pandas as pd    # to load dataset\n",
    "import numpy as np     # for mathematic equation\n",
    "import matplotlib.pyplot as plt\n",
    "import nltk\n",
    "from nltk.corpus import stopwords   # to get collection of stopwords\n",
    "from sklearn.model_selection import train_test_split       # for splitting dataset\n",
    "\n",
    "import tensorflow as tf\n",
    "from tensorflow.keras.preprocessing.text import Tokenizer  # to encode text to int\n",
    "from tensorflow.keras.preprocessing.sequence import pad_sequences   # to do padding or truncating\n",
    "from tensorflow.keras.models import Sequential     # the model\n",
    "from tensorflow.keras.layers import Embedding, LSTM, Flatten, Dense # layers of the architecture\n",
    "from tensorflow.keras.callbacks import ModelCheckpoint   # save model\n",
    "from tensorflow.keras.models import load_model   # load saved model\n"
   ]
  },
  {
   "cell_type": "code",
   "execution_count": 2,
   "metadata": {},
   "outputs": [
    {
     "data": {
      "text/plain": [
       "DatasetDict({\n",
       "    train: Dataset({\n",
       "        features: ['text', 'label'],\n",
       "        num_rows: 25000\n",
       "    })\n",
       "    test: Dataset({\n",
       "        features: ['text', 'label'],\n",
       "        num_rows: 25000\n",
       "    })\n",
       "    unsupervised: Dataset({\n",
       "        features: ['text', 'label'],\n",
       "        num_rows: 50000\n",
       "    })\n",
       "})"
      ]
     },
     "execution_count": 2,
     "metadata": {},
     "output_type": "execute_result"
    }
   ],
   "source": [
    "# Load the imdb dataset - from the datasets library \n",
    "\n",
    "imdb = load_dataset(\"imdb\")\n",
    "imdb"
   ]
  },
  {
   "cell_type": "code",
   "execution_count": 3,
   "metadata": {},
   "outputs": [
    {
     "name": "stdout",
     "output_type": "stream",
     "text": [
      "Dataset({\n",
      "    features: ['text', 'label'],\n",
      "    num_rows: 10000\n",
      "})\n",
      "Dataset({\n",
      "    features: ['text', 'label'],\n",
      "    num_rows: 10000\n",
      "})\n"
     ]
    }
   ],
   "source": [
    "small_train_dataset = imdb[\"train\"].shuffle(seed=42).select([i for i in list(range(10000))])\n",
    "small_test_dataset = imdb[\"test\"].shuffle(seed=42).select([i for i in list(range(10000))])\n",
    "\n",
    "print(small_train_dataset)\n",
    "print(small_test_dataset)"
   ]
  },
  {
   "cell_type": "code",
   "execution_count": 4,
   "metadata": {},
   "outputs": [],
   "source": [
    "train_df = pd.DataFrame(small_train_dataset)\n",
    "test_df = pd.DataFrame(small_test_dataset)"
   ]
  },
  {
   "cell_type": "code",
   "execution_count": 5,
   "metadata": {},
   "outputs": [
    {
     "name": "stdout",
     "output_type": "stream",
     "text": [
      "(10000, 2)\n"
     ]
    },
    {
     "data": {
      "text/html": [
       "<div>\n",
       "<style scoped>\n",
       "    .dataframe tbody tr th:only-of-type {\n",
       "        vertical-align: middle;\n",
       "    }\n",
       "\n",
       "    .dataframe tbody tr th {\n",
       "        vertical-align: top;\n",
       "    }\n",
       "\n",
       "    .dataframe thead th {\n",
       "        text-align: right;\n",
       "    }\n",
       "</style>\n",
       "<table border=\"1\" class=\"dataframe\">\n",
       "  <thead>\n",
       "    <tr style=\"text-align: right;\">\n",
       "      <th></th>\n",
       "      <th>text</th>\n",
       "      <th>label</th>\n",
       "    </tr>\n",
       "  </thead>\n",
       "  <tbody>\n",
       "    <tr>\n",
       "      <th>0</th>\n",
       "      <td>There is no relation at all between Fortier an...</td>\n",
       "      <td>1</td>\n",
       "    </tr>\n",
       "    <tr>\n",
       "      <th>1</th>\n",
       "      <td>This movie is a great. The plot is very true t...</td>\n",
       "      <td>1</td>\n",
       "    </tr>\n",
       "    <tr>\n",
       "      <th>2</th>\n",
       "      <td>George P. Cosmatos' \"Rambo: First Blood Part I...</td>\n",
       "      <td>0</td>\n",
       "    </tr>\n",
       "    <tr>\n",
       "      <th>3</th>\n",
       "      <td>In the process of trying to establish the audi...</td>\n",
       "      <td>1</td>\n",
       "    </tr>\n",
       "    <tr>\n",
       "      <th>4</th>\n",
       "      <td>Yeh, I know -- you're quivering with excitemen...</td>\n",
       "      <td>0</td>\n",
       "    </tr>\n",
       "  </tbody>\n",
       "</table>\n",
       "</div>"
      ],
      "text/plain": [
       "                                                text  label\n",
       "0  There is no relation at all between Fortier an...      1\n",
       "1  This movie is a great. The plot is very true t...      1\n",
       "2  George P. Cosmatos' \"Rambo: First Blood Part I...      0\n",
       "3  In the process of trying to establish the audi...      1\n",
       "4  Yeh, I know -- you're quivering with excitemen...      0"
      ]
     },
     "execution_count": 5,
     "metadata": {},
     "output_type": "execute_result"
    }
   ],
   "source": [
    "print(train_df.shape)\n",
    "train_df.head()"
   ]
  },
  {
   "cell_type": "code",
   "execution_count": 6,
   "metadata": {},
   "outputs": [
    {
     "name": "stdout",
     "output_type": "stream",
     "text": [
      "(10000, 2)\n"
     ]
    },
    {
     "data": {
      "text/html": [
       "<div>\n",
       "<style scoped>\n",
       "    .dataframe tbody tr th:only-of-type {\n",
       "        vertical-align: middle;\n",
       "    }\n",
       "\n",
       "    .dataframe tbody tr th {\n",
       "        vertical-align: top;\n",
       "    }\n",
       "\n",
       "    .dataframe thead th {\n",
       "        text-align: right;\n",
       "    }\n",
       "</style>\n",
       "<table border=\"1\" class=\"dataframe\">\n",
       "  <thead>\n",
       "    <tr style=\"text-align: right;\">\n",
       "      <th></th>\n",
       "      <th>text</th>\n",
       "      <th>label</th>\n",
       "    </tr>\n",
       "  </thead>\n",
       "  <tbody>\n",
       "    <tr>\n",
       "      <th>0</th>\n",
       "      <td>&lt;br /&gt;&lt;br /&gt;When I unsuspectedly rented A Thou...</td>\n",
       "      <td>1</td>\n",
       "    </tr>\n",
       "    <tr>\n",
       "      <th>1</th>\n",
       "      <td>This is the latest entry in the long series of...</td>\n",
       "      <td>1</td>\n",
       "    </tr>\n",
       "    <tr>\n",
       "      <th>2</th>\n",
       "      <td>This movie was so frustrating. Everything seem...</td>\n",
       "      <td>0</td>\n",
       "    </tr>\n",
       "    <tr>\n",
       "      <th>3</th>\n",
       "      <td>I was truly and wonderfully surprised at \"O' B...</td>\n",
       "      <td>1</td>\n",
       "    </tr>\n",
       "    <tr>\n",
       "      <th>4</th>\n",
       "      <td>This movie spends most of its time preaching t...</td>\n",
       "      <td>0</td>\n",
       "    </tr>\n",
       "  </tbody>\n",
       "</table>\n",
       "</div>"
      ],
      "text/plain": [
       "                                                text  label\n",
       "0  <br /><br />When I unsuspectedly rented A Thou...      1\n",
       "1  This is the latest entry in the long series of...      1\n",
       "2  This movie was so frustrating. Everything seem...      0\n",
       "3  I was truly and wonderfully surprised at \"O' B...      1\n",
       "4  This movie spends most of its time preaching t...      0"
      ]
     },
     "execution_count": 6,
     "metadata": {},
     "output_type": "execute_result"
    }
   ],
   "source": [
    "print(test_df.shape)\n",
    "test_df.head()"
   ]
  },
  {
   "cell_type": "code",
   "execution_count": 7,
   "metadata": {},
   "outputs": [
    {
     "name": "stdout",
     "output_type": "stream",
     "text": [
      "Stop Words: \n",
      " {\"wouldn't\", 'is', 'where', 'its', 'were', 'other', 'won', 'doesn', 'themselves', 'from', \"shouldn't\", 'out', 'here', 'very', 't', 'after', 'because', 'shan', 'for', 'just', 'y', 'being', 'an', 'are', \"she's\", 'nor', 'haven', \"mustn't\", 'hadn', 'whom', 'a', 'isn', \"shan't\", 'we', 'more', 'who', 'why', 'ain', 'same', 'll', 'ma', 'through', 'her', 're', 'can', 'mustn', 'into', 'both', 'but', 'weren', 've', 'it', 'him', 'during', 'against', \"you're\", \"didn't\", 'doing', 'those', \"doesn't\", \"you'd\", 'most', 'this', 'theirs', 'on', 'off', 'been', 'has', 'at', 'herself', 'shouldn', 'am', 'all', \"isn't\", \"hasn't\", 'that', 'didn', 'too', 'aren', 'again', 'he', 'them', \"hadn't\", 'my', 'as', \"wasn't\", 'which', 'o', 'further', 'd', 'was', 'each', 'not', \"needn't\", 'to', 'up', 'did', 'itself', 'once', 'had', 'while', 'there', 'these', 'below', \"aren't\", 'over', 'about', \"won't\", 'before', 'be', 'ourselves', 'have', 'do', 'so', \"weren't\", 'any', 'm', 'she', 'hasn', 'when', \"don't\", 'should', 'wouldn', 'under', 'and', 'with', 'few', 'hers', \"it's\", 'of', \"haven't\", 'down', 'the', 'ours', 'you', 'don', \"that'll\", 'only', 'yourselves', 'by', 'or', 'own', 'his', 'some', 'now', 'your', \"couldn't\", 'needn', 'in', 'himself', 'mightn', 'how', 'no', 'then', 'they', 'yours', 'i', 'such', 'having', 'does', 'couldn', 'their', 'above', 'than', 's', 'between', \"you'll\", 'wasn', 'our', \"mightn't\", \"should've\", 'what', 'myself', 'will', 'yourself', 'until', \"you've\", 'me', 'if'} \n",
      "\n",
      "\n",
      "\n",
      "Train Set: \n",
      "0       [there, relation, fortier, profiler, fact, pol...\n",
      "1       [this, movie, great, the, plot, true, book, cl...\n",
      "2       [george, p, cosmatos, rambo, first, blood, par...\n",
      "3       [in, process, trying, establish, audiences, em...\n",
      "4       [yeh, i, know, quivering, excitement, well, th...\n",
      "                              ...                        \n",
      "9995    [i, guess, goes, prove, joe, don, baker, anyth...\n",
      "9996    [a, good, adaptation, novel, amrita, pritam, u...\n",
      "9997    [if, one, thing, annoys, seeing, bad, film, se...\n",
      "9998    [first, heartfelt, commiserations, anyone, bou...\n",
      "9999    [i, actually, like, movie, even, though, i, fa...\n",
      "Name: text, Length: 10000, dtype: object \n",
      "\n",
      "0       [when, i, unsuspectedly, rented, a, thousand, ...\n",
      "1       [this, latest, entry, long, series, films, fre...\n",
      "2       [this, movie, frustrating, everything, seemed,...\n",
      "3       [i, truly, wonderfully, surprised, o, brother,...\n",
      "4       [this, movie, spends, time, preaching, script,...\n",
      "                              ...                        \n",
      "9995    [one, night, mccool, wants, think, hip, clever...\n",
      "9996    [we, saw, la, spettatrice, last, night, chicag...\n",
      "9997    [an, insult, poker, cinema, movie, manages, ma...\n",
      "9998    [i, admit, this, one, lamest, films, ever, mad...\n",
      "9999    [cherry, tells, naive, unmarried, virgin, deci...\n",
      "Name: text, Length: 10000, dtype: object \n",
      "\n",
      "Test Set: \n",
      "0       1\n",
      "1       1\n",
      "2       0\n",
      "3       1\n",
      "4       0\n",
      "       ..\n",
      "9995    0\n",
      "9996    1\n",
      "9997    0\n",
      "9998    0\n",
      "9999    1\n",
      "Name: label, Length: 10000, dtype: int64 \n",
      "\n",
      "0       1\n",
      "1       1\n",
      "2       0\n",
      "3       1\n",
      "4       0\n",
      "       ..\n",
      "9995    0\n",
      "9996    1\n",
      "9997    0\n",
      "9998    0\n",
      "9999    1\n",
      "Name: label, Length: 10000, dtype: int64\n"
     ]
    }
   ],
   "source": [
    "### Clean Dataset ### \n",
    "\n",
    "english_stops = set(stopwords.words('english'))\n",
    "print(\"Stop Words: \\n\", english_stops, \"\\n\\n\\n\")\n",
    "\n",
    "def preprocess_data(x_data, y_data):\n",
    "    x_data = x_data.replace({'<.*?>': ''}, regex = True)          # remove html tag\n",
    "    x_data = x_data.replace({'[^A-Za-z]': ' '}, regex = True)     # remove non alphabet\n",
    "    x_data = x_data.apply(lambda review: [w for w in review.split() if w not in english_stops])  # remove stop words\n",
    "    x_data = x_data.apply(lambda review: [w.lower() for w in review])   # lower case\n",
    "\n",
    "    return x_data, y_data\n",
    "\n",
    "X_train, y_train = preprocess_data(train_df['text'], train_df['label'])\n",
    "X_test, y_test = preprocess_data(test_df['text'], test_df['label'])\n",
    "\n",
    "print('Train Set: ')\n",
    "print(X_train, '\\n')\n",
    "print(X_test, '\\n')\n",
    "print('Test Set: ')\n",
    "print(y_train, '\\n')\n",
    "print(y_test)"
   ]
  },
  {
   "cell_type": "code",
   "execution_count": 8,
   "metadata": {},
   "outputs": [
    {
     "name": "stdout",
     "output_type": "stream",
     "text": [
      "Encoded X Train\n",
      " [[   47  4361 16330 ...     0     0     0]\n",
      " [    9     3    23 ...     0     0     0]\n",
      " [  630  1530 31681 ...     0     0     0]\n",
      " ...\n",
      " [   59     5    64 ... 11932   538  1823]\n",
      " [   22  5260 50885 ...  3571  5294   603]\n",
      " [    1    73     6 ...     0     0     0]] \n",
      "\n",
      "Encoded X Test\n",
      " [[  173     1  1470 ...   508   179    18]\n",
      " [    9  2501  2859 ...     0     0     0]\n",
      " [    9     3  5525 ...     0     0     0]\n",
      " ...\n",
      " [  701  2299  5858 ...     0     0     0]\n",
      " [    1   855     9 ...     0     0     0]\n",
      " [13045   584  2353 ...     0     0     0]] \n",
      "\n",
      "Maximum review length:  131\n"
     ]
    }
   ],
   "source": [
    "# Transform words in 'Reviews' to numbers \n",
    "\n",
    "token = Tokenizer(lower=False) \n",
    "token.fit_on_texts(X_train)\n",
    "X_train = token.texts_to_sequences(X_train)\n",
    "X_test = token.texts_to_sequences(X_test)\n",
    "\n",
    "\n",
    "# Each reviews has a different length, so use padding by adding 0 or truncating the words to the same length or by using mean of all reviews length \n",
    "def get_max_length(data_col):    # Deduce the maximum review length, by calculating the mean of all review lengths\n",
    "    review_length = []\n",
    "    for review in data_col:\n",
    "        review_length.append(len(review))\n",
    "    return int(np.ceil(np.mean(review_length)))\n",
    "\n",
    "max_length = get_max_length(X_train)\n",
    "X_train = pad_sequences(X_train, maxlen=max_length, padding='post', truncating='post') # padding using mean length \n",
    "X_test = pad_sequences(X_test, maxlen=max_length, padding='post', truncating='post') # padding using mean length \n",
    "\n",
    "\n",
    "total_words = len(token.word_index) + 1   # add 1 because of 0 padding\n",
    "\n",
    "print('Encoded X Train\\n', X_train, '\\n')\n",
    "print('Encoded X Test\\n', X_test, '\\n')\n",
    "print('Maximum review length: ', max_length)"
   ]
  },
  {
   "cell_type": "code",
   "execution_count": 24,
   "metadata": {},
   "outputs": [
    {
     "name": "stdout",
     "output_type": "stream",
     "text": [
      "Model: \"sequential_2\"\n",
      "_________________________________________________________________\n",
      " Layer (type)                Output Shape              Param #   \n",
      "=================================================================\n",
      " embedding_2 (Embedding)     (None, 131, 32)           1628480   \n",
      "                                                                 \n",
      " flatten (Flatten)           (None, 4192)              0         \n",
      "                                                                 \n",
      " dense_1 (Dense)             (None, 64)                268352    \n",
      "                                                                 \n",
      " dense_2 (Dense)             (None, 1)                 65        \n",
      "                                                                 \n",
      "=================================================================\n",
      "Total params: 1896897 (7.24 MB)\n",
      "Trainable params: 1896897 (7.24 MB)\n",
      "Non-trainable params: 0 (0.00 Byte)\n",
      "_________________________________________________________________\n",
      "None\n"
     ]
    }
   ],
   "source": [
    "### Build DL Model Architecture ### \n",
    "\n",
    "model = Sequential()\n",
    "model.add(Embedding(total_words, 32, input_length=max_length))\n",
    "model.add(Flatten())  # Flatten layer to convert 3D input to 2D\n",
    "model.add(Dense(64, activation='relu'))  # Adding a dense layer with 64 units and ReLU activation\n",
    "model.add(Dense(1, activation='sigmoid'))  # Output layer with sigmoid activation for binary classification\n",
    "\n",
    "model.compile(optimizer='adam', loss='binary_crossentropy', metrics=['accuracy'])\n",
    "\n",
    "print(model.summary())"
   ]
  },
  {
   "cell_type": "markdown",
   "metadata": {},
   "source": [
    "- **Embedding Layer:** creates word vectors of each word in the word_index and group words that are related or have similar meaning by analyzing other words around them.\r\n",
    "- **\r\n",
    "LSTM Laye**r: to make a decision to keep or throw away data by considering the current input, previous output, and previous memoryMi- **ctions\r\n",
    "Dens**e Layer: compute the input with the weight matrix and bias (optional), and using an activation f Here, . I use Sigmoid activation fis used is work because the oubinary (is onl)y 0- **Optimizer and Loss Function:**  or 1.\r\n",
    "\r\n",
    "The optimizer is Adam and the loss function is Binary Crossentroause again the binaryu(t oron). ry number."
   ]
  },
  {
   "cell_type": "code",
   "execution_count": 25,
   "metadata": {},
   "outputs": [],
   "source": [
    "# add a checkpoint to save the model locally for every epoch if its accuracy improved from the previous epoch \n",
    "checkpoint = ModelCheckpoint(\n",
    "    'models/LSTM.h5',\n",
    "    monitor='accuracy',\n",
    "    save_best_only=True,\n",
    "    verbose=1\n",
    ")"
   ]
  },
  {
   "cell_type": "code",
   "execution_count": 26,
   "metadata": {},
   "outputs": [
    {
     "name": "stdout",
     "output_type": "stream",
     "text": [
      "Epoch 1/10\n",
      "77/79 [============================>.] - ETA: 0s - loss: 0.6622 - accuracy: 0.6048\n",
      "Epoch 1: accuracy improved from -inf to 0.60670, saving model to models\\LSTM.h5\n",
      "79/79 [==============================] - 2s 12ms/step - loss: 0.6604 - accuracy: 0.6067 - val_loss: 0.5091 - val_accuracy: 0.7853\n",
      "Epoch 2/10\n",
      "15/79 [====>.........................] - ETA: 0s - loss: 0.3427 - accuracy: 0.9068"
     ]
    },
    {
     "name": "stderr",
     "output_type": "stream",
     "text": [
      "C:\\Users\\CHAITANYA\\AppData\\Local\\Programs\\Python\\Python311\\Lib\\site-packages\\keras\\src\\engine\\training.py:3103: UserWarning: You are saving your model as an HDF5 file via `model.save()`. This file format is considered legacy. We recommend using instead the native Keras format, e.g. `model.save('my_model.keras')`.\n",
      "  saving_api.save_model(\n"
     ]
    },
    {
     "name": "stdout",
     "output_type": "stream",
     "text": [
      "76/79 [===========================>..] - ETA: 0s - loss: 0.2379 - accuracy: 0.9172\n",
      "Epoch 2: accuracy improved from 0.60670 to 0.91800, saving model to models\\LSTM.h5\n",
      "79/79 [==============================] - 1s 10ms/step - loss: 0.2351 - accuracy: 0.9180 - val_loss: 0.3631 - val_accuracy: 0.8371\n",
      "Epoch 3/10\n",
      "76/79 [===========================>..] - ETA: 0s - loss: 0.0294 - accuracy: 0.9956\n",
      "Epoch 3: accuracy improved from 0.91800 to 0.99540, saving model to models\\LSTM.h5\n",
      "79/79 [==============================] - 1s 10ms/step - loss: 0.0300 - accuracy: 0.9954 - val_loss: 0.3907 - val_accuracy: 0.8364\n",
      "Epoch 4/10\n",
      "77/79 [============================>.] - ETA: 0s - loss: 0.0068 - accuracy: 0.9997\n",
      "Epoch 4: accuracy improved from 0.99540 to 0.99970, saving model to models\\LSTM.h5\n",
      "79/79 [==============================] - 1s 10ms/step - loss: 0.0068 - accuracy: 0.9997 - val_loss: 0.4289 - val_accuracy: 0.8322\n",
      "Epoch 5/10\n",
      "76/79 [===========================>..] - ETA: 0s - loss: 0.0033 - accuracy: 0.9999\n",
      "Epoch 5: accuracy improved from 0.99970 to 0.99990, saving model to models\\LSTM.h5\n",
      "79/79 [==============================] - 1s 10ms/step - loss: 0.0033 - accuracy: 0.9999 - val_loss: 0.4379 - val_accuracy: 0.8349\n",
      "Epoch 6/10\n",
      "75/79 [===========================>..] - ETA: 0s - loss: 0.0016 - accuracy: 1.0000\n",
      "Epoch 6: accuracy improved from 0.99990 to 1.00000, saving model to models\\LSTM.h5\n",
      "79/79 [==============================] - 1s 10ms/step - loss: 0.0016 - accuracy: 1.0000 - val_loss: 0.4529 - val_accuracy: 0.8352\n",
      "Epoch 7/10\n",
      "77/79 [============================>.] - ETA: 0s - loss: 0.0011 - accuracy: 1.0000\n",
      "Epoch 7: accuracy did not improve from 1.00000\n",
      "79/79 [==============================] - 1s 10ms/step - loss: 0.0011 - accuracy: 1.0000 - val_loss: 0.4645 - val_accuracy: 0.8353\n",
      "Epoch 8/10\n",
      "78/79 [============================>.] - ETA: 0s - loss: 8.0728e-04 - accuracy: 1.0000\n",
      "Epoch 8: accuracy did not improve from 1.00000\n",
      "79/79 [==============================] - 1s 10ms/step - loss: 8.0671e-04 - accuracy: 1.0000 - val_loss: 0.4747 - val_accuracy: 0.8356\n",
      "Epoch 9/10\n",
      "78/79 [============================>.] - ETA: 0s - loss: 6.1342e-04 - accuracy: 1.0000\n",
      "Epoch 9: accuracy did not improve from 1.00000\n",
      "79/79 [==============================] - 1s 10ms/step - loss: 6.1297e-04 - accuracy: 1.0000 - val_loss: 0.4848 - val_accuracy: 0.8359\n",
      "Epoch 10/10\n",
      "78/79 [============================>.] - ETA: 0s - loss: 4.8341e-04 - accuracy: 1.0000\n",
      "Epoch 10: accuracy did not improve from 1.00000\n",
      "79/79 [==============================] - 1s 10ms/step - loss: 4.8282e-04 - accuracy: 1.0000 - val_loss: 0.4929 - val_accuracy: 0.8366\n"
     ]
    }
   ],
   "source": [
    "history = model.fit(X_train, y_train, batch_size = 128, epochs = 10, callbacks=[checkpoint], validation_data=(X_test, y_test))\n"
   ]
  },
  {
   "cell_type": "markdown",
   "metadata": {},
   "source": [
    "- For Training, using mini-batch learning method with a batch_size of 128 and 5 epochs"
   ]
  },
  {
   "cell_type": "code",
   "execution_count": 27,
   "metadata": {},
   "outputs": [
    {
     "name": "stdout",
     "output_type": "stream",
     "text": [
      "313/313 [==============================] - 0s 1ms/step - loss: 0.4929 - accuracy: 0.8366\n",
      "Test Accuracy: 83.6600 %\n",
      "Test Loss:  0.4928743541240692\n"
     ]
    }
   ],
   "source": [
    "### Model Evaluation ### \n",
    "\n",
    "loss, accuracy = model.evaluate(X_test, y_test)\n",
    "print(\"Test Accuracy: {:.4f} %\".format(accuracy*100))\n",
    "print(\"Test Loss: \", loss)\n"
   ]
  },
  {
   "cell_type": "code",
   "execution_count": 31,
   "metadata": {},
   "outputs": [],
   "source": [
    "### Model Evaluation ### \n",
    "\n",
    "# # Get raw predictions\n",
    "# y_pred_prob = model.predict(X_test, batch_size=128)\n",
    "\n",
    "# # Convert raw predictions to class predictions\n",
    "# y_pred = np.argmax(y_pred_prob, axis=1)\n",
    "\n",
    "# # Calculate accuracy\n",
    "# accuracy = np.sum(y_pred == y_test) / len(y_test) * 100\n",
    "\n",
    "# print('Correct Prediction: {}'.format(np.sum(y_pred == y_test)))\n",
    "# print('Wrong Prediction: {}'.format(len(y_test) - np.sum(y_pred == y_test)))\n",
    "# print('Accuracy: {:.2f}%'.format(accuracy))"
   ]
  },
  {
   "cell_type": "code",
   "execution_count": 28,
   "metadata": {},
   "outputs": [
    {
     "data": {
      "image/png": "[encoded data removed]",
      "text/plain": [
       "<Figure size 640x480 with 1 Axes>"
      ]
     },
     "metadata": {},
     "output_type": "display_data"
    }
   ],
   "source": [
    "# VALIDATION LOSS curves\n",
    "history_dict = history.history\n",
    "history_dict.keys()\n",
    "\n",
    "plt.clf()\n",
    "history_dict = history.history\n",
    "loss_values = history_dict['loss']\n",
    "val_loss_values = history_dict['val_loss']\n",
    "epochs = range(1, (len(history_dict['loss']) + 1))\n",
    "plt.plot(epochs, loss_values, 'bo', label='Training loss')\n",
    "plt.plot(epochs, val_loss_values, 'b', label='Validation loss')\n",
    "plt.title('Training and validation loss')\n",
    "plt.xlabel('Epochs')\n",
    "plt.ylabel('Loss')\n",
    "plt.legend()\n",
    "plt.show()"
   ]
  },
  {
   "cell_type": "code",
   "execution_count": 29,
   "metadata": {},
   "outputs": [
    {
     "data": {
      "image/png": "[encoded data removed]",
      "text/plain": [
       "<Figure size 640x480 with 1 Axes>"
      ]
     },
     "metadata": {},
     "output_type": "display_data"
    }
   ],
   "source": [
    "# VALIDATION ACCURACY curves\n",
    "\n",
    "plt.clf()\n",
    "acc_values = history_dict['accuracy']\n",
    "val_acc_values = history_dict['val_accuracy']\n",
    "epochs = range(1, len(history_dict['accuracy']) + 1)\n",
    "\n",
    "plt.plot(epochs, acc_values, 'bo', label='Training acc')\n",
    "plt.plot(epochs, val_acc_values, 'b', label='Validation acc')\n",
    "plt.title('Training and validation accuracy')\n",
    "plt.xlabel('Epochs')\n",
    "plt.ylabel('Accuracy')\n",
    "plt.legend()\n",
    "plt.show()\n"
   ]
  },
  {
   "cell_type": "code",
   "execution_count": 33,
   "metadata": {},
   "outputs": [
    {
     "name": "stdout",
     "output_type": "stream",
     "text": [
      "Cleaned:  Nothing was typical about this Everything was beautifully done in this movie the story the flow the scenario everything I highly recommend it for mystery lovers for anyone who wants to watch a good movie\n",
      "Filtered:  ['nothing typical everything beautifully done movie story flow scenario everything i highly recommend mystery lovers anyone wants watch good movie']\n",
      "[[  81  669  188 1273  128    3   13 2716 2690  188    1  444  273  662\n",
      "  1891  164  409   35    8    3    0    0    0    0    0    0    0    0\n",
      "     0    0    0    0    0    0    0    0    0    0    0    0    0    0\n",
      "     0    0    0    0    0    0    0    0    0    0    0    0    0    0\n",
      "     0    0    0    0    0    0    0    0    0    0    0    0    0    0\n",
      "     0    0    0    0    0    0    0    0    0    0    0    0    0    0\n",
      "     0    0    0    0    0    0    0    0    0    0    0    0    0    0\n",
      "     0    0    0    0    0    0    0    0    0    0    0    0    0    0\n",
      "     0    0    0    0    0    0    0    0    0    0    0    0    0    0\n",
      "     0    0    0    0    0]]\n",
      "1/1 [==============================] - 0s 29ms/step\n",
      "[[0.9901274]] \n",
      "\n",
      "positive\n"
     ]
    }
   ],
   "source": [
    "### real-time testing ### \n",
    "\n",
    "review = \"Nothing was typical about this. Everything was beautifully done in this movie, the story, the flow, the scenario, everything. I highly recommend it for mystery lovers, for anyone who wants to watch a good movie!\"\n",
    "\n",
    "# Pre-process input\n",
    "regex = re.compile(r'[^a-zA-Z\\s]')\n",
    "review = regex.sub('', review)\n",
    "print('Cleaned: ', review)\n",
    "\n",
    "words = review.split(' ')\n",
    "filtered = [w for w in words if w not in english_stops]\n",
    "filtered = ' '.join(filtered)\n",
    "filtered = [filtered.lower()]\n",
    "\n",
    "print('Filtered: ', filtered)\n",
    "\n",
    "\n",
    "tokenize_words = token.texts_to_sequences(filtered)\n",
    "tokenize_words = pad_sequences(tokenize_words, maxlen=max_length, padding='post', truncating='post')\n",
    "print(tokenize_words)\n",
    "\n",
    "result = model.predict(tokenize_words)\n",
    "print(result, \"\\n\")\n",
    "\n",
    "if result >= 0.7: # Using a threshold of 0.7 to deduce the sentiment label \n",
    "    print('positive')\n",
    "else:\n",
    "    print('negative')\n",
    "    "
   ]
  },
  {
   "cell_type": "code",
   "execution_count": null,
   "metadata": {},
   "outputs": [],
   "source": []
  }
 ],
 "metadata": {
  "kernelspec": {
   "display_name": "Python 3 (ipykernel)",
   "language": "python",
   "name": "python3"
  },
  "language_info": {
   "codemirror_mode": {
    "name": "ipython",
    "version": 3
   },
   "file_extension": ".py",
   "mimetype": "text/x-python",
   "name": "python",
   "nbconvert_exporter": "python",
   "pygments_lexer": "ipython3",
   "version": "3.11.7"
  }
 },
 "nbformat": 4,
 "nbformat_minor": 4
}
